{
  "nbformat": 4,
  "nbformat_minor": 0,
  "metadata": {
    "colab": {
      "name": "BattingEDA.ipynb",
      "provenance": [],
      "collapsed_sections": [],
      "machine_shape": "hm"
    },
    "kernelspec": {
      "name": "python3",
      "display_name": "Python 3"
    },
    "accelerator": "GPU"
  },
  "cells": [
    {
      "cell_type": "markdown",
      "metadata": {
        "id": "5-8rj-Ot28qA"
      },
      "source": [
        "# CSE 158: Assignment 2\n",
        "Allston Fojas, Enrique Sanchez, Stephanie Moore\n",
        "\n",
        "12/3/19"
      ]
    },
    {
      "cell_type": "code",
      "metadata": {
        "id": "sm2wgMtr7Vhg",
        "outputId": "154f9f39-d500-4cee-be4a-645460880aa2",
        "colab": {
          "base_uri": "https://localhost:8080/",
          "height": 122
        }
      },
      "source": [
        "# Importing libraries\n",
        "import pandas as pd\n",
        "import numpy as np\n",
        "import matplotlib.pyplot as plt\n",
        "%matplotlib inline\n",
        "\n",
        "# Mounting google drive. Allows you to import\n",
        "# the csv files we will be working with\n",
        "from google.colab import drive\n",
        "drive.mount('/content/drive')"
      ],
      "execution_count": null,
      "outputs": [
        {
          "output_type": "stream",
          "text": [
            "Go to this URL in a browser: https://accounts.google.com/o/oauth2/auth?client_id=947318989803-6bn6qk8qdgf4n4g3pfee6491hc0brc4i.apps.googleusercontent.com&redirect_uri=urn%3aietf%3awg%3aoauth%3a2.0%3aoob&response_type=code&scope=email%20https%3a%2f%2fwww.googleapis.com%2fauth%2fdocs.test%20https%3a%2f%2fwww.googleapis.com%2fauth%2fdrive%20https%3a%2f%2fwww.googleapis.com%2fauth%2fdrive.photos.readonly%20https%3a%2f%2fwww.googleapis.com%2fauth%2fpeopleapi.readonly\n",
            "\n",
            "Enter your authorization code:\n",
            "··········\n",
            "Mounted at /content/drive\n"
          ],
          "name": "stdout"
        }
      ]
    },
    {
      "cell_type": "markdown",
      "metadata": {
        "id": "xYmaXprJCWjS"
      },
      "source": [
        "Just for reference, here are the column descriptions for the following data set:\n",
        "\n",
        "*   **ab_id:** At-bat ID. First 4 digits are year.\n",
        "*   **batter_id:** Player ID of the batter.\n",
        "*   **event:** Description of the result of the at-bat\n",
        "*   **g_id:** Game ID\n",
        "*   **inning:** Inning number\n",
        "*   **o:** Number of outs after this at-bat\n",
        "*   **p_score:** Score for the pitcher's team\n",
        "*   **p_throws:** Which hand pitcher throws with. Single \n",
        "character, R or L\n",
        "*   **pitcher_id:** player ID of the pitcher\n",
        "*   **stand:** which side batter hits on. Single character, R or L\n",
        "*   **top:** True if it's the top of the inning, False if it's the bottom\n",
        "\n"
      ]
    },
    {
      "cell_type": "code",
      "metadata": {
        "id": "fON3ZDWk9S1v",
        "outputId": "355e1135-0723-47fc-cd3b-a5739d50dde4",
        "colab": {
          "base_uri": "https://localhost:8080/",
          "height": 204
        }
      },
      "source": [
        "# Loading in batting data set\n",
        "atbats = pd.read_csv('/content/drive/Shared drives/CSE 158/data/atbats.csv')\n",
        "atbats.head()"
      ],
      "execution_count": null,
      "outputs": [
        {
          "output_type": "execute_result",
          "data": {
            "text/html": [
              "<div>\n",
              "<style scoped>\n",
              "    .dataframe tbody tr th:only-of-type {\n",
              "        vertical-align: middle;\n",
              "    }\n",
              "\n",
              "    .dataframe tbody tr th {\n",
              "        vertical-align: top;\n",
              "    }\n",
              "\n",
              "    .dataframe thead th {\n",
              "        text-align: right;\n",
              "    }\n",
              "</style>\n",
              "<table border=\"1\" class=\"dataframe\">\n",
              "  <thead>\n",
              "    <tr style=\"text-align: right;\">\n",
              "      <th></th>\n",
              "      <th>ab_id</th>\n",
              "      <th>batter_id</th>\n",
              "      <th>event</th>\n",
              "      <th>g_id</th>\n",
              "      <th>inning</th>\n",
              "      <th>o</th>\n",
              "      <th>p_score</th>\n",
              "      <th>p_throws</th>\n",
              "      <th>pitcher_id</th>\n",
              "      <th>stand</th>\n",
              "      <th>top</th>\n",
              "    </tr>\n",
              "  </thead>\n",
              "  <tbody>\n",
              "    <tr>\n",
              "      <th>0</th>\n",
              "      <td>2015000001</td>\n",
              "      <td>572761</td>\n",
              "      <td>Groundout</td>\n",
              "      <td>201500001</td>\n",
              "      <td>1</td>\n",
              "      <td>1</td>\n",
              "      <td>0</td>\n",
              "      <td>L</td>\n",
              "      <td>452657</td>\n",
              "      <td>L</td>\n",
              "      <td>True</td>\n",
              "    </tr>\n",
              "    <tr>\n",
              "      <th>1</th>\n",
              "      <td>2015000002</td>\n",
              "      <td>518792</td>\n",
              "      <td>Double</td>\n",
              "      <td>201500001</td>\n",
              "      <td>1</td>\n",
              "      <td>1</td>\n",
              "      <td>0</td>\n",
              "      <td>L</td>\n",
              "      <td>452657</td>\n",
              "      <td>L</td>\n",
              "      <td>True</td>\n",
              "    </tr>\n",
              "    <tr>\n",
              "      <th>2</th>\n",
              "      <td>2015000003</td>\n",
              "      <td>407812</td>\n",
              "      <td>Single</td>\n",
              "      <td>201500001</td>\n",
              "      <td>1</td>\n",
              "      <td>1</td>\n",
              "      <td>0</td>\n",
              "      <td>L</td>\n",
              "      <td>452657</td>\n",
              "      <td>R</td>\n",
              "      <td>True</td>\n",
              "    </tr>\n",
              "    <tr>\n",
              "      <th>3</th>\n",
              "      <td>2015000004</td>\n",
              "      <td>425509</td>\n",
              "      <td>Strikeout</td>\n",
              "      <td>201500001</td>\n",
              "      <td>1</td>\n",
              "      <td>2</td>\n",
              "      <td>0</td>\n",
              "      <td>L</td>\n",
              "      <td>452657</td>\n",
              "      <td>R</td>\n",
              "      <td>True</td>\n",
              "    </tr>\n",
              "    <tr>\n",
              "      <th>4</th>\n",
              "      <td>2015000005</td>\n",
              "      <td>571431</td>\n",
              "      <td>Strikeout</td>\n",
              "      <td>201500001</td>\n",
              "      <td>1</td>\n",
              "      <td>3</td>\n",
              "      <td>0</td>\n",
              "      <td>L</td>\n",
              "      <td>452657</td>\n",
              "      <td>L</td>\n",
              "      <td>True</td>\n",
              "    </tr>\n",
              "  </tbody>\n",
              "</table>\n",
              "</div>"
            ],
            "text/plain": [
              "        ab_id  batter_id      event       g_id  ...  p_throws  pitcher_id  stand   top\n",
              "0  2015000001     572761  Groundout  201500001  ...         L      452657      L  True\n",
              "1  2015000002     518792     Double  201500001  ...         L      452657      L  True\n",
              "2  2015000003     407812     Single  201500001  ...         L      452657      R  True\n",
              "3  2015000004     425509  Strikeout  201500001  ...         L      452657      R  True\n",
              "4  2015000005     571431  Strikeout  201500001  ...         L      452657      L  True\n",
              "\n",
              "[5 rows x 11 columns]"
            ]
          },
          "metadata": {
            "tags": []
          },
          "execution_count": 2
        }
      ]
    },
    {
      "cell_type": "code",
      "metadata": {
        "id": "iFxZNE5pCqiM",
        "outputId": "375e0735-5637-4248-fd54-2df943ca72ba",
        "colab": {
          "base_uri": "https://localhost:8080/",
          "height": 289
        }
      },
      "source": [
        "# Any missing values? Nope!\n",
        "atbats.info()"
      ],
      "execution_count": null,
      "outputs": [
        {
          "output_type": "stream",
          "text": [
            "<class 'pandas.core.frame.DataFrame'>\n",
            "RangeIndex: 740389 entries, 0 to 740388\n",
            "Data columns (total 11 columns):\n",
            "ab_id         740389 non-null int64\n",
            "batter_id     740389 non-null int64\n",
            "event         740389 non-null object\n",
            "g_id          740389 non-null int64\n",
            "inning        740389 non-null int64\n",
            "o             740389 non-null int64\n",
            "p_score       740389 non-null int64\n",
            "p_throws      740389 non-null object\n",
            "pitcher_id    740389 non-null int64\n",
            "stand         740389 non-null object\n",
            "top           740389 non-null bool\n",
            "dtypes: bool(1), int64(7), object(3)\n",
            "memory usage: 57.2+ MB\n"
          ],
          "name": "stdout"
        }
      ]
    },
    {
      "cell_type": "code",
      "metadata": {
        "id": "pmamzBJbFCSG",
        "outputId": "355b565a-eb2d-45d6-89c7-7858c48a8d00",
        "colab": {
          "base_uri": "https://localhost:8080/",
          "height": 34
        }
      },
      "source": [
        "# Is each observation (ab_id) unique?\n",
        "atbats['ab_id'].nunique() == len(atbats)"
      ],
      "execution_count": null,
      "outputs": [
        {
          "output_type": "execute_result",
          "data": {
            "text/plain": [
              "True"
            ]
          },
          "metadata": {
            "tags": []
          },
          "execution_count": 4
        }
      ]
    },
    {
      "cell_type": "code",
      "metadata": {
        "id": "5wgl-qIIIEN0",
        "outputId": "ab581b5d-5cb7-462b-bf1e-112af7458d20",
        "colab": {
          "base_uri": "https://localhost:8080/",
          "height": 34
        }
      },
      "source": [
        "# How many at-bats?\n",
        "len(atbats)"
      ],
      "execution_count": null,
      "outputs": [
        {
          "output_type": "execute_result",
          "data": {
            "text/plain": [
              "740389"
            ]
          },
          "metadata": {
            "tags": []
          },
          "execution_count": 5
        }
      ]
    },
    {
      "cell_type": "code",
      "metadata": {
        "id": "OWTD9Xi7Lk5w",
        "outputId": "20dc6360-0ee9-40a6-d041-93ad1f019d11",
        "colab": {
          "base_uri": "https://localhost:8080/",
          "height": 34
        }
      },
      "source": [
        "# How many batters?\n",
        "atbats['batter_id'].nunique()"
      ],
      "execution_count": null,
      "outputs": [
        {
          "output_type": "execute_result",
          "data": {
            "text/plain": [
              "1688"
            ]
          },
          "metadata": {
            "tags": []
          },
          "execution_count": 6
        }
      ]
    },
    {
      "cell_type": "code",
      "metadata": {
        "id": "3Szs9P4CSIiV",
        "outputId": "f89c7e1e-8aea-48ca-ca9a-d130f0d78d60",
        "colab": {
          "base_uri": "https://localhost:8080/",
          "height": 34
        }
      },
      "source": [
        "# How many pitchers?\n",
        "atbats['pitcher_id'].nunique()"
      ],
      "execution_count": null,
      "outputs": [
        {
          "output_type": "execute_result",
          "data": {
            "text/plain": [
              "1332"
            ]
          },
          "metadata": {
            "tags": []
          },
          "execution_count": 7
        }
      ]
    },
    {
      "cell_type": "code",
      "metadata": {
        "id": "w5bvvbImLuXY",
        "outputId": "99df44ca-3075-4f43-9ca6-66f08ca0101a",
        "colab": {
          "base_uri": "https://localhost:8080/",
          "height": 34
        }
      },
      "source": [
        "# Over how many games?\n",
        "atbats['g_id'].nunique()"
      ],
      "execution_count": null,
      "outputs": [
        {
          "output_type": "execute_result",
          "data": {
            "text/plain": [
              "9718"
            ]
          },
          "metadata": {
            "tags": []
          },
          "execution_count": 8
        }
      ]
    },
    {
      "cell_type": "code",
      "metadata": {
        "id": "5lrRXuHBL90H",
        "outputId": "d973a5e1-4c45-4a1f-fb41-6d5231474e49",
        "colab": {
          "base_uri": "https://localhost:8080/",
          "height": 357
        }
      },
      "source": [
        "# Distribution of pitchers per inning\n",
        "# Note: A typical game is 9 innings, anything over is considered overtime\n",
        "atbats['inning'].value_counts(normalize=True).sort_index()"
      ],
      "execution_count": null,
      "outputs": [
        {
          "output_type": "execute_result",
          "data": {
            "text/plain": [
              "1     0.113501\n",
              "2     0.110112\n",
              "3     0.111462\n",
              "4     0.112452\n",
              "5     0.112368\n",
              "6     0.112822\n",
              "7     0.112041\n",
              "8     0.111652\n",
              "9     0.084261\n",
              "10    0.008741\n",
              "11    0.004980\n",
              "12    0.002641\n",
              "13    0.001475\n",
              "14    0.000639\n",
              "15    0.000380\n",
              "16    0.000261\n",
              "17    0.000111\n",
              "18    0.000074\n",
              "19    0.000028\n",
              "Name: inning, dtype: float64"
            ]
          },
          "metadata": {
            "tags": []
          },
          "execution_count": 9
        }
      ]
    },
    {
      "cell_type": "code",
      "metadata": {
        "id": "fvtwBSvcM0Y9",
        "outputId": "877e5234-69d5-41db-89d7-ebab771f0ae8",
        "colab": {
          "base_uri": "https://localhost:8080/",
          "height": 68
        }
      },
      "source": [
        "# Left hand, right hand pitches\n",
        "atbats['p_throws'].value_counts(normalize=True)"
      ],
      "execution_count": null,
      "outputs": [
        {
          "output_type": "execute_result",
          "data": {
            "text/plain": [
              "R    0.732185\n",
              "L    0.267815\n",
              "Name: p_throws, dtype: float64"
            ]
          },
          "metadata": {
            "tags": []
          },
          "execution_count": 10
        }
      ]
    },
    {
      "cell_type": "code",
      "metadata": {
        "id": "hHwtfYdGOTPi",
        "outputId": "4d0c7549-d02c-4814-d6bf-c3dd4b602b89",
        "colab": {
          "base_uri": "https://localhost:8080/",
          "height": 68
        }
      },
      "source": [
        "# Side batter bats on\n",
        "atbats['stand'].value_counts(normalize=True)"
      ],
      "execution_count": null,
      "outputs": [
        {
          "output_type": "execute_result",
          "data": {
            "text/plain": [
              "R    0.584922\n",
              "L    0.415078\n",
              "Name: stand, dtype: float64"
            ]
          },
          "metadata": {
            "tags": []
          },
          "execution_count": 11
        }
      ]
    },
    {
      "cell_type": "code",
      "metadata": {
        "id": "5Q6z0C7DOdRF",
        "outputId": "5df84214-4e90-4843-aed1-6e41df91eeba",
        "colab": {
          "base_uri": "https://localhost:8080/",
          "height": 68
        }
      },
      "source": [
        "# Distribution of pitches at top/bottom of inning\n",
        "# Note: ONLY the away team bats at the top of the inning.\n",
        "#       Home team always bats at bottom of inning.\n",
        "#\n",
        "#       If the away team fails to take the lead after the\n",
        "#       top of the 9th inning, the home team automatically\n",
        "#       wins and will not bat at the bottom of the inning. \n",
        "#       Hence, why we may see more at-bats at top of the innings.\n",
        "\n",
        "atbats['top'].value_counts()"
      ],
      "execution_count": null,
      "outputs": [
        {
          "output_type": "execute_result",
          "data": {
            "text/plain": [
              "True     377283\n",
              "False    363106\n",
              "Name: top, dtype: int64"
            ]
          },
          "metadata": {
            "tags": []
          },
          "execution_count": 12
        }
      ]
    },
    {
      "cell_type": "code",
      "metadata": {
        "id": "5769s1ZcBBL5",
        "outputId": "d11f53c3-8c11-4bee-f949-5138e5fc6da3",
        "colab": {
          "base_uri": "https://localhost:8080/",
          "height": 68
        }
      },
      "source": [
        "atbats['top'].value_counts(normalize=True)"
      ],
      "execution_count": null,
      "outputs": [
        {
          "output_type": "execute_result",
          "data": {
            "text/plain": [
              "True     0.509574\n",
              "False    0.490426\n",
              "Name: top, dtype: float64"
            ]
          },
          "metadata": {
            "tags": []
          },
          "execution_count": 13
        }
      ]
    },
    {
      "cell_type": "code",
      "metadata": {
        "id": "2aiyFUg7PeJw",
        "outputId": "c951177a-3fa8-4bfb-e523-1639d55f1b66",
        "colab": {
          "base_uri": "https://localhost:8080/",
          "height": 544
        }
      },
      "source": [
        "# Distribution of batting events\n",
        "atbats['event'].value_counts(normalize=True)"
      ],
      "execution_count": null,
      "outputs": [
        {
          "output_type": "execute_result",
          "data": {
            "text/plain": [
              "Strikeout               0.212224\n",
              "Groundout               0.182192\n",
              "Single                  0.146942\n",
              "Flyout                  0.109039\n",
              "Walk                    0.076843\n",
              "Lineout                 0.060690\n",
              "Pop Out                 0.046536\n",
              "Double                  0.044783\n",
              "Home Run                0.029996\n",
              "Forceout                0.020411\n",
              "Grounded Into DP        0.019877\n",
              "Hit By Pitch            0.009371\n",
              "Field Error             0.008631\n",
              "Sac Fly                 0.006447\n",
              "Sac Bunt                0.005361\n",
              "Intent Walk             0.005108\n",
              "Triple                  0.004665\n",
              "Double Play             0.002441\n",
              "Runner Out              0.002353\n",
              "Bunt Groundout          0.001692\n",
              "Fielders Choice Out     0.001688\n",
              "Strikeout - DP          0.000783\n",
              "Bunt Pop Out            0.000769\n",
              "Fielders Choice         0.000534\n",
              "Batter Interference     0.000213\n",
              "Catcher Interference    0.000207\n",
              "Sac Fly DP              0.000103\n",
              "Bunt Lineout            0.000070\n",
              "Triple Play             0.000027\n",
              "Sacrifice Bunt DP       0.000005\n",
              "Name: event, dtype: float64"
            ]
          },
          "metadata": {
            "tags": []
          },
          "execution_count": 14
        }
      ]
    },
    {
      "cell_type": "code",
      "metadata": {
        "id": "hm5E1TRpnRWX",
        "outputId": "18a1aa18-cf4f-467e-f839-c0aaa7edc522",
        "colab": {
          "base_uri": "https://localhost:8080/",
          "height": 408
        }
      },
      "source": [
        "# Bar chart distribution of event categories\n",
        "font_dict = {'fontsize': 16}\n",
        "events = atbats['event'].value_counts(normalize=True).plot(kind='bar')\n",
        "events.set_title('Distribution of Event Categories', fontdict=font_dict)\n",
        "events.set_xlabel('Event Category')\n",
        "events.set_ylabel('Proportion of Frequency')"
      ],
      "execution_count": null,
      "outputs": [
        {
          "output_type": "execute_result",
          "data": {
            "text/plain": [
              "Text(0, 0.5, 'Proportion of Frequency')"
            ]
          },
          "metadata": {
            "tags": []
          },
          "execution_count": 15
        },
        {
          "output_type": "display_data",
          "data": {
            "image/png": "[encoded data removed]",
            "text/plain": [
              "<Figure size 432x288 with 1 Axes>"
            ]
          },
          "metadata": {
            "tags": []
          }
        }
      ]
    },
    {
      "cell_type": "code",
      "metadata": {
        "id": "m34S8m1RnXdp",
        "outputId": "8687d641-f548-42d4-ac03-0d58efc41206",
        "colab": {
          "base_uri": "https://localhost:8080/",
          "height": 358
        }
      },
      "source": [
        "# Bar chart distribution of tope 10 event categories\n",
        "events_top10 = atbats['event'].value_counts(normalize=True)[:10].plot(kind='bar')\n",
        "events_top10.set_title('Distribution of Top 10 Event Categories', fontdict=font_dict)\n",
        "events_top10.set_xlabel('Event Category')\n",
        "events_top10.set_ylabel('Proportion of Frequency')"
      ],
      "execution_count": null,
      "outputs": [
        {
          "output_type": "execute_result",
          "data": {
            "text/plain": [
              "Text(0, 0.5, 'Proportion of Frequency')"
            ]
          },
          "metadata": {
            "tags": []
          },
          "execution_count": 16
        },
        {
          "output_type": "display_data",
          "data": {
            "image/png": "[encoded data removed]",
            "text/plain": [
              "<Figure size 432x288 with 1 Axes>"
            ]
          },
          "metadata": {
            "tags": []
          }
        }
      ]
    },
    {
      "cell_type": "markdown",
      "metadata": {
        "id": "MGcHbq1Uncpe"
      },
      "source": [
        "From the above distributions, we see that strikeouts and groundouts are the two most frequent events. In addition, six of the top ten event categories are types of outs (strikeout, groundout, flyout, lineout, pop out, and forceout), and the remaining four categories are types of plays in which the player gets on a base (single, walk, double, homerun). From these observations, we see that an event in which the player is out is more often to occur than an event in which the player gets on a base."
      ]
    },
    {
      "cell_type": "markdown",
      "metadata": {
        "id": "fuKklW4QTwoT"
      },
      "source": [
        "Since we want to convert this into a binary classification problem, we need to map the above batting events to either a postive at-bat or negative at-bat. We can define a positive at-bat as an event in which the batter either progresses to a base, scores a home run, or gets out but allows a teammate to progress (sacrifice). A negative at-bat is an event in which no progress is made."
      ]
    },
    {
      "cell_type": "code",
      "metadata": {
        "id": "n1sVOYiNWKd6",
        "outputId": "c919d34e-114a-4af6-81ba-a86d46fc622c",
        "colab": {
          "base_uri": "https://localhost:8080/",
          "height": 204
        }
      },
      "source": [
        "# Creating dictionary for binary event mappings\n",
        "bat_dic = {'Strikeout': 0, 'Groundout': 0, 'Single': 1, \n",
        "           'Flyout': 0, 'Walk': 1, 'Lineout': 0, \n",
        "           'Pop Out': 0, 'Double': 1, 'Home Run': 1, \n",
        "           'Forceout': 0, 'Grounded Into DP': 0, \n",
        "           'Hit By Pitch': 1, 'Field Error': 1, 'Sac Fly': 1, \n",
        "           'Sac Bunt': 1, 'Intent Walk': 1, 'Triple': 1, \n",
        "           'Double Play': 0, 'Runner Out': 0, 'Bunt Groundout': 0,\n",
        "           'Fielders Choice Out': 1, 'Strikeout - DP': 0,\n",
        "           'Bunt Pop Out': 0, 'Fielders Choice': 1, \n",
        "           'Batter Interference': 0, 'Catcher Interference': 1, \n",
        "           'Sac Fly DP': 1, 'Bunt Lineout': 0, 'Triple Play': 0,\n",
        "           'Sacrifice Bunt DP': 0}\n",
        "\n",
        "# Mapping events\n",
        "atbats['event'] = atbats['event'].replace(bat_dic)\n",
        "atbats.head()"
      ],
      "execution_count": null,
      "outputs": [
        {
          "output_type": "execute_result",
          "data": {
            "text/html": [
              "<div>\n",
              "<style scoped>\n",
              "    .dataframe tbody tr th:only-of-type {\n",
              "        vertical-align: middle;\n",
              "    }\n",
              "\n",
              "    .dataframe tbody tr th {\n",
              "        vertical-align: top;\n",
              "    }\n",
              "\n",
              "    .dataframe thead th {\n",
              "        text-align: right;\n",
              "    }\n",
              "</style>\n",
              "<table border=\"1\" class=\"dataframe\">\n",
              "  <thead>\n",
              "    <tr style=\"text-align: right;\">\n",
              "      <th></th>\n",
              "      <th>ab_id</th>\n",
              "      <th>batter_id</th>\n",
              "      <th>event</th>\n",
              "      <th>g_id</th>\n",
              "      <th>inning</th>\n",
              "      <th>o</th>\n",
              "      <th>p_score</th>\n",
              "      <th>p_throws</th>\n",
              "      <th>pitcher_id</th>\n",
              "      <th>stand</th>\n",
              "      <th>top</th>\n",
              "    </tr>\n",
              "  </thead>\n",
              "  <tbody>\n",
              "    <tr>\n",
              "      <th>0</th>\n",
              "      <td>2015000001</td>\n",
              "      <td>572761</td>\n",
              "      <td>0</td>\n",
              "      <td>201500001</td>\n",
              "      <td>1</td>\n",
              "      <td>1</td>\n",
              "      <td>0</td>\n",
              "      <td>L</td>\n",
              "      <td>452657</td>\n",
              "      <td>L</td>\n",
              "      <td>True</td>\n",
              "    </tr>\n",
              "    <tr>\n",
              "      <th>1</th>\n",
              "      <td>2015000002</td>\n",
              "      <td>518792</td>\n",
              "      <td>1</td>\n",
              "      <td>201500001</td>\n",
              "      <td>1</td>\n",
              "      <td>1</td>\n",
              "      <td>0</td>\n",
              "      <td>L</td>\n",
              "      <td>452657</td>\n",
              "      <td>L</td>\n",
              "      <td>True</td>\n",
              "    </tr>\n",
              "    <tr>\n",
              "      <th>2</th>\n",
              "      <td>2015000003</td>\n",
              "      <td>407812</td>\n",
              "      <td>1</td>\n",
              "      <td>201500001</td>\n",
              "      <td>1</td>\n",
              "      <td>1</td>\n",
              "      <td>0</td>\n",
              "      <td>L</td>\n",
              "      <td>452657</td>\n",
              "      <td>R</td>\n",
              "      <td>True</td>\n",
              "    </tr>\n",
              "    <tr>\n",
              "      <th>3</th>\n",
              "      <td>2015000004</td>\n",
              "      <td>425509</td>\n",
              "      <td>0</td>\n",
              "      <td>201500001</td>\n",
              "      <td>1</td>\n",
              "      <td>2</td>\n",
              "      <td>0</td>\n",
              "      <td>L</td>\n",
              "      <td>452657</td>\n",
              "      <td>R</td>\n",
              "      <td>True</td>\n",
              "    </tr>\n",
              "    <tr>\n",
              "      <th>4</th>\n",
              "      <td>2015000005</td>\n",
              "      <td>571431</td>\n",
              "      <td>0</td>\n",
              "      <td>201500001</td>\n",
              "      <td>1</td>\n",
              "      <td>3</td>\n",
              "      <td>0</td>\n",
              "      <td>L</td>\n",
              "      <td>452657</td>\n",
              "      <td>L</td>\n",
              "      <td>True</td>\n",
              "    </tr>\n",
              "  </tbody>\n",
              "</table>\n",
              "</div>"
            ],
            "text/plain": [
              "        ab_id  batter_id  event       g_id  ...  p_throws  pitcher_id  stand   top\n",
              "0  2015000001     572761      0  201500001  ...         L      452657      L  True\n",
              "1  2015000002     518792      1  201500001  ...         L      452657      L  True\n",
              "2  2015000003     407812      1  201500001  ...         L      452657      R  True\n",
              "3  2015000004     425509      0  201500001  ...         L      452657      R  True\n",
              "4  2015000005     571431      0  201500001  ...         L      452657      L  True\n",
              "\n",
              "[5 rows x 11 columns]"
            ]
          },
          "metadata": {
            "tags": []
          },
          "execution_count": 17
        }
      ]
    },
    {
      "cell_type": "code",
      "metadata": {
        "id": "XYAoaeomcc5Q",
        "outputId": "6db0edaf-c3d3-4156-acfe-69808a1b24f6",
        "colab": {
          "base_uri": "https://localhost:8080/",
          "height": 68
        }
      },
      "source": [
        "# Proportion of positive vs negative events\n",
        "atbats['event'].value_counts(normalize=True)"
      ],
      "execution_count": null,
      "outputs": [
        {
          "output_type": "execute_result",
          "data": {
            "text/plain": [
              "0    0.659322\n",
              "1    0.340678\n",
              "Name: event, dtype: float64"
            ]
          },
          "metadata": {
            "tags": []
          },
          "execution_count": 18
        }
      ]
    },
    {
      "cell_type": "code",
      "metadata": {
        "id": "-ISb5nooryAH",
        "outputId": "044c85fe-9291-4af7-f4a3-d9eed4ae674d",
        "colab": {
          "base_uri": "https://localhost:8080/",
          "height": 697
        }
      },
      "source": [
        "# Do events differ across innings?\n",
        "atbats.groupby('inning')['event'].value_counts(normalize=True)"
      ],
      "execution_count": null,
      "outputs": [
        {
          "output_type": "execute_result",
          "data": {
            "text/plain": [
              "inning  event\n",
              "1       0        0.649872\n",
              "        1        0.350128\n",
              "2       0        0.670265\n",
              "        1        0.329735\n",
              "3       0        0.658503\n",
              "        1        0.341497\n",
              "4       0        0.654496\n",
              "        1        0.345504\n",
              "5       0        0.652988\n",
              "        1        0.347012\n",
              "6       0        0.655378\n",
              "        1        0.344622\n",
              "7       0        0.660474\n",
              "        1        0.339526\n",
              "8       0        0.663925\n",
              "        1        0.336075\n",
              "9       0        0.677796\n",
              "        1        0.322204\n",
              "10      0        0.637361\n",
              "        1        0.362639\n",
              "11      0        0.618931\n",
              "        1        0.381069\n",
              "12      0        0.646036\n",
              "        1        0.353964\n",
              "13      0        0.627289\n",
              "        1        0.372711\n",
              "14      0        0.640592\n",
              "        1        0.359408\n",
              "15      0        0.619217\n",
              "        1        0.380783\n",
              "16      0        0.569948\n",
              "        1        0.430052\n",
              "17      0        0.621951\n",
              "        1        0.378049\n",
              "18      0        0.527273\n",
              "        1        0.472727\n",
              "19      0        0.619048\n",
              "        1        0.380952\n",
              "Name: event, dtype: float64"
            ]
          },
          "metadata": {
            "tags": []
          },
          "execution_count": 19
        }
      ]
    },
    {
      "cell_type": "code",
      "metadata": {
        "id": "ilrPNytSr8Rv",
        "outputId": "867f1393-f602-43bc-d771-fbe5ba7b0274",
        "colab": {
          "base_uri": "https://localhost:8080/",
          "height": 119
        }
      },
      "source": [
        "# Do they differ based on the hand the pitcher throws with?\n",
        "atbats.groupby('p_throws')['event'].value_counts(normalize=True)"
      ],
      "execution_count": null,
      "outputs": [
        {
          "output_type": "execute_result",
          "data": {
            "text/plain": [
              "p_throws  event\n",
              "L         0        0.657602\n",
              "          1        0.342398\n",
              "R         0        0.659951\n",
              "          1        0.340049\n",
              "Name: event, dtype: float64"
            ]
          },
          "metadata": {
            "tags": []
          },
          "execution_count": 20
        }
      ]
    },
    {
      "cell_type": "code",
      "metadata": {
        "id": "s6Jfr3_TuYVf",
        "outputId": "439eb2e8-1959-472b-bc1a-f3c4573508c4",
        "colab": {
          "base_uri": "https://localhost:8080/",
          "height": 119
        }
      },
      "source": [
        "# Or based on the side the batter hits on\n",
        "atbats.groupby('stand')['event'].value_counts(normalize=True)"
      ],
      "execution_count": null,
      "outputs": [
        {
          "output_type": "execute_result",
          "data": {
            "text/plain": [
              "stand  event\n",
              "L      0        0.655029\n",
              "       1        0.344971\n",
              "R      0        0.662369\n",
              "       1        0.337631\n",
              "Name: event, dtype: float64"
            ]
          },
          "metadata": {
            "tags": []
          },
          "execution_count": 21
        }
      ]
    },
    {
      "cell_type": "code",
      "metadata": {
        "id": "Bg9wxIUVumBe",
        "outputId": "9dc1e0d6-8e04-499f-87ee-a0b1e4dec4ea",
        "colab": {
          "base_uri": "https://localhost:8080/",
          "height": 119
        }
      },
      "source": [
        "# Top and bottom of inning\n",
        "#\n",
        "# Another way of thinking about this: \n",
        "# Does 'homefield advantage' actually affect the resulting events?\n",
        "#\n",
        "# We do see higher proportions (>1%) of positive events for home \n",
        "# teams but are they significant?\n",
        "\n",
        "atbats.groupby('top')['event'].value_counts(normalize=True)"
      ],
      "execution_count": null,
      "outputs": [
        {
          "output_type": "execute_result",
          "data": {
            "text/plain": [
              "top    event\n",
              "False  0        0.652639\n",
              "       1        0.347361\n",
              "True   0        0.665755\n",
              "       1        0.334245\n",
              "Name: event, dtype: float64"
            ]
          },
          "metadata": {
            "tags": []
          },
          "execution_count": 22
        }
      ]
    },
    {
      "cell_type": "markdown",
      "metadata": {
        "id": "MWrj2DIev_rr"
      },
      "source": [
        "Now that we understand this data set a bit better, we can start thinking about building a model to predict a postive at-bat or a negative one. \n",
        "\n",
        "Given that ~66% of at-bats are negative, we can expect a trivial predictor (predicting 0 every time) to achieve an accuracy of ~66%. We must attempt to improve upon this.\n",
        "\n",
        "Improvement can come from feature engineering (one-hot encoding, etc.), normalizing, or merging in the other data sets that are provided along with this one on Kaggle."
      ]
    },
    {
      "cell_type": "markdown",
      "metadata": {
        "id": "No3Lq_5joOlQ"
      },
      "source": [
        "### More EDA"
      ]
    },
    {
      "cell_type": "code",
      "metadata": {
        "id": "PUBGs4JQoNyO",
        "outputId": "72b72990-a323-4733-eb01-80ccdd3b1038",
        "colab": {
          "base_uri": "https://localhost:8080/",
          "height": 204
        }
      },
      "source": [
        "# Loading in ejections data set\n",
        "ejections_df = pd.read_csv('/content/drive/Shared drives/CSE 158/data/ejections.csv')\n",
        "ejections_df.head()"
      ],
      "execution_count": null,
      "outputs": [
        {
          "output_type": "execute_result",
          "data": {
            "text/html": [
              "<div>\n",
              "<style scoped>\n",
              "    .dataframe tbody tr th:only-of-type {\n",
              "        vertical-align: middle;\n",
              "    }\n",
              "\n",
              "    .dataframe tbody tr th {\n",
              "        vertical-align: top;\n",
              "    }\n",
              "\n",
              "    .dataframe thead th {\n",
              "        text-align: right;\n",
              "    }\n",
              "</style>\n",
              "<table border=\"1\" class=\"dataframe\">\n",
              "  <thead>\n",
              "    <tr style=\"text-align: right;\">\n",
              "      <th></th>\n",
              "      <th>ab_id</th>\n",
              "      <th>des</th>\n",
              "      <th>event_num</th>\n",
              "      <th>g_id</th>\n",
              "      <th>player_id</th>\n",
              "      <th>date</th>\n",
              "      <th>BS</th>\n",
              "      <th>CORRECT</th>\n",
              "      <th>team</th>\n",
              "      <th>is_home_team</th>\n",
              "    </tr>\n",
              "  </thead>\n",
              "  <tbody>\n",
              "    <tr>\n",
              "      <th>0</th>\n",
              "      <td>2015003219</td>\n",
              "      <td>San Diego Padres center fielder Will Venable e...</td>\n",
              "      <td>732</td>\n",
              "      <td>201500044</td>\n",
              "      <td>461416</td>\n",
              "      <td>4/9/15</td>\n",
              "      <td>NaN</td>\n",
              "      <td>NaN</td>\n",
              "      <td>sdn</td>\n",
              "      <td>True</td>\n",
              "    </tr>\n",
              "    <tr>\n",
              "      <th>1</th>\n",
              "      <td>2015003219</td>\n",
              "      <td>San Diego Padres Manager Bud Black ejected by ...</td>\n",
              "      <td>734</td>\n",
              "      <td>201500044</td>\n",
              "      <td>111034</td>\n",
              "      <td>4/9/15</td>\n",
              "      <td>NaN</td>\n",
              "      <td>NaN</td>\n",
              "      <td>sdn</td>\n",
              "      <td>True</td>\n",
              "    </tr>\n",
              "    <tr>\n",
              "      <th>2</th>\n",
              "      <td>2015004134</td>\n",
              "      <td>Milwaukee Brewers second baseman Scooter Genne...</td>\n",
              "      <td>584</td>\n",
              "      <td>201500055</td>\n",
              "      <td>571697</td>\n",
              "      <td>4/10/15</td>\n",
              "      <td>Y</td>\n",
              "      <td>C</td>\n",
              "      <td>mil</td>\n",
              "      <td>True</td>\n",
              "    </tr>\n",
              "    <tr>\n",
              "      <th>3</th>\n",
              "      <td>2015006692</td>\n",
              "      <td>Cincinnati Reds Manager Bryan Price ejected by...</td>\n",
              "      <td>557</td>\n",
              "      <td>201500088</td>\n",
              "      <td>427406</td>\n",
              "      <td>4/12/15</td>\n",
              "      <td>NaN</td>\n",
              "      <td>NaN</td>\n",
              "      <td>cin</td>\n",
              "      <td>True</td>\n",
              "    </tr>\n",
              "    <tr>\n",
              "      <th>4</th>\n",
              "      <td>2015008446</td>\n",
              "      <td>Pittsburgh Pirates Manager Clint Hurdle ejecte...</td>\n",
              "      <td>402</td>\n",
              "      <td>201500111</td>\n",
              "      <td>116346</td>\n",
              "      <td>4/14/15</td>\n",
              "      <td>Y</td>\n",
              "      <td>I</td>\n",
              "      <td>pit</td>\n",
              "      <td>True</td>\n",
              "    </tr>\n",
              "  </tbody>\n",
              "</table>\n",
              "</div>"
            ],
            "text/plain": [
              "        ab_id  ... is_home_team\n",
              "0  2015003219  ...         True\n",
              "1  2015003219  ...         True\n",
              "2  2015004134  ...         True\n",
              "3  2015006692  ...         True\n",
              "4  2015008446  ...         True\n",
              "\n",
              "[5 rows x 10 columns]"
            ]
          },
          "metadata": {
            "tags": []
          },
          "execution_count": 23
        }
      ]
    },
    {
      "cell_type": "code",
      "metadata": {
        "id": "iN6BF8Jvoejv",
        "outputId": "7684caa7-efde-459f-b6ee-80e139f220ce",
        "colab": {
          "base_uri": "https://localhost:8080/",
          "height": 544
        }
      },
      "source": [
        "# Distribution of teams for player ejected\n",
        "ejections_df['team'].value_counts(normalize=True)"
      ],
      "execution_count": null,
      "outputs": [
        {
          "output_type": "execute_result",
          "data": {
            "text/plain": [
              "tor    0.064389\n",
              "det    0.047306\n",
              "cha    0.047306\n",
              "nya    0.044678\n",
              "pit    0.043364\n",
              "kca    0.042050\n",
              "sdn    0.040736\n",
              "lan    0.036794\n",
              "chn    0.036794\n",
              "was    0.036794\n",
              "hou    0.035480\n",
              "tex    0.035480\n",
              "bos    0.034166\n",
              "mia    0.032852\n",
              "cin    0.032852\n",
              "mil    0.032852\n",
              "min    0.031537\n",
              "atl    0.031537\n",
              "sfn    0.030223\n",
              "nyn    0.030223\n",
              "azn    0.028909\n",
              "col    0.028909\n",
              "laa    0.028909\n",
              "tba    0.024967\n",
              "stl    0.024967\n",
              "oak    0.024967\n",
              "bal    0.021025\n",
              "sea    0.021025\n",
              "cle    0.017083\n",
              "phi    0.011827\n",
              "Name: team, dtype: float64"
            ]
          },
          "metadata": {
            "tags": []
          },
          "execution_count": 24
        }
      ]
    },
    {
      "cell_type": "code",
      "metadata": {
        "id": "IBkjPbKnqAiU",
        "outputId": "68a0c4eb-2e7a-436b-ea9f-0e45ca0e24f1",
        "colab": {
          "base_uri": "https://localhost:8080/",
          "height": 324
        }
      },
      "source": [
        "# Bar chart distribution of teams for player ejected\n",
        "ejections = ejections_df['team'].value_counts(normalize=True).plot(kind='bar')\n",
        "ejections.set_title('Distribution of Teams for Player Ejected', fontdict=font_dict)\n",
        "ejections.set_xlabel('Team for Player Ejected')\n",
        "ejections.set_ylabel('Proportion of Frequency')"
      ],
      "execution_count": null,
      "outputs": [
        {
          "output_type": "execute_result",
          "data": {
            "text/plain": [
              "Text(0, 0.5, 'Proportion of Frequency')"
            ]
          },
          "metadata": {
            "tags": []
          },
          "execution_count": 25
        },
        {
          "output_type": "display_data",
          "data": {
            "image/png": "[encoded data removed]",
            "text/plain": [
              "<Figure size 432x288 with 1 Axes>"
            ]
          },
          "metadata": {
            "tags": []
          }
        }
      ]
    },
    {
      "cell_type": "code",
      "metadata": {
        "id": "KZV5vc93qDqq",
        "outputId": "98ce44fe-e584-46c0-fe64-bb2d82c3a0a6",
        "colab": {
          "base_uri": "https://localhost:8080/",
          "height": 324
        }
      },
      "source": [
        "# Bar chart distribution of top 10 teams for player ejected\n",
        "ejections_top10 = ejections_df['team'].value_counts(normalize=True)[:10].plot(kind='bar')\n",
        "ejections_top10.set_title('Distribution of Top 10 Teams for Player Ejected', fontdict=font_dict)\n",
        "ejections_top10.set_xlabel('Team for Player Ejected')\n",
        "ejections_top10.set_ylabel('Proportion of Frequency')"
      ],
      "execution_count": null,
      "outputs": [
        {
          "output_type": "execute_result",
          "data": {
            "text/plain": [
              "Text(0, 0.5, 'Proportion of Frequency')"
            ]
          },
          "metadata": {
            "tags": []
          },
          "execution_count": 26
        },
        {
          "output_type": "display_data",
          "data": {
            "image/png": "[encoded data removed]",
            "text/plain": [
              "<Figure size 432x288 with 1 Axes>"
            ]
          },
          "metadata": {
            "tags": []
          }
        }
      ]
    },
    {
      "cell_type": "code",
      "metadata": {
        "id": "5KroCq6MqG3c"
      },
      "source": [
        "# Creating dictionary for human-readable team names\n",
        "teams_dict = {\n",
        "    'tor' : 'Toronto Blue Jays',\n",
        "    'det' : 'Detroit Tigers',\n",
        "    'cha' : 'Chicago White Sox',\n",
        "    'nya' : 'New York Yankees',\n",
        "    'pit' : 'Pittsburgh Pirates',\n",
        "    'kca' : 'Kansas City Royals',\n",
        "    'sdn' : 'San Diego Padres',\n",
        "    'lan' : 'Los Angeles Dodgers',\n",
        "    'was' : 'Washington Nationals',\n",
        "    'chn' : 'Chicago Cubs'\n",
        "}"
      ],
      "execution_count": null,
      "outputs": []
    },
    {
      "cell_type": "code",
      "metadata": {
        "id": "eiDpVVYVqMfw",
        "outputId": "233a7cf1-f882-4450-eddd-5d547b1180fb",
        "colab": {
          "base_uri": "https://localhost:8080/",
          "height": 204
        }
      },
      "source": [
        "# Mapping teams\n",
        "ejections_df['team'] = ejections_df['team'].replace(teams_dict)\n",
        "ejections_df.head()"
      ],
      "execution_count": null,
      "outputs": [
        {
          "output_type": "execute_result",
          "data": {
            "text/html": [
              "<div>\n",
              "<style scoped>\n",
              "    .dataframe tbody tr th:only-of-type {\n",
              "        vertical-align: middle;\n",
              "    }\n",
              "\n",
              "    .dataframe tbody tr th {\n",
              "        vertical-align: top;\n",
              "    }\n",
              "\n",
              "    .dataframe thead th {\n",
              "        text-align: right;\n",
              "    }\n",
              "</style>\n",
              "<table border=\"1\" class=\"dataframe\">\n",
              "  <thead>\n",
              "    <tr style=\"text-align: right;\">\n",
              "      <th></th>\n",
              "      <th>ab_id</th>\n",
              "      <th>des</th>\n",
              "      <th>event_num</th>\n",
              "      <th>g_id</th>\n",
              "      <th>player_id</th>\n",
              "      <th>date</th>\n",
              "      <th>BS</th>\n",
              "      <th>CORRECT</th>\n",
              "      <th>team</th>\n",
              "      <th>is_home_team</th>\n",
              "    </tr>\n",
              "  </thead>\n",
              "  <tbody>\n",
              "    <tr>\n",
              "      <th>0</th>\n",
              "      <td>2015003219</td>\n",
              "      <td>San Diego Padres center fielder Will Venable e...</td>\n",
              "      <td>732</td>\n",
              "      <td>201500044</td>\n",
              "      <td>461416</td>\n",
              "      <td>4/9/15</td>\n",
              "      <td>NaN</td>\n",
              "      <td>NaN</td>\n",
              "      <td>San Diego Padres</td>\n",
              "      <td>True</td>\n",
              "    </tr>\n",
              "    <tr>\n",
              "      <th>1</th>\n",
              "      <td>2015003219</td>\n",
              "      <td>San Diego Padres Manager Bud Black ejected by ...</td>\n",
              "      <td>734</td>\n",
              "      <td>201500044</td>\n",
              "      <td>111034</td>\n",
              "      <td>4/9/15</td>\n",
              "      <td>NaN</td>\n",
              "      <td>NaN</td>\n",
              "      <td>San Diego Padres</td>\n",
              "      <td>True</td>\n",
              "    </tr>\n",
              "    <tr>\n",
              "      <th>2</th>\n",
              "      <td>2015004134</td>\n",
              "      <td>Milwaukee Brewers second baseman Scooter Genne...</td>\n",
              "      <td>584</td>\n",
              "      <td>201500055</td>\n",
              "      <td>571697</td>\n",
              "      <td>4/10/15</td>\n",
              "      <td>Y</td>\n",
              "      <td>C</td>\n",
              "      <td>mil</td>\n",
              "      <td>True</td>\n",
              "    </tr>\n",
              "    <tr>\n",
              "      <th>3</th>\n",
              "      <td>2015006692</td>\n",
              "      <td>Cincinnati Reds Manager Bryan Price ejected by...</td>\n",
              "      <td>557</td>\n",
              "      <td>201500088</td>\n",
              "      <td>427406</td>\n",
              "      <td>4/12/15</td>\n",
              "      <td>NaN</td>\n",
              "      <td>NaN</td>\n",
              "      <td>cin</td>\n",
              "      <td>True</td>\n",
              "    </tr>\n",
              "    <tr>\n",
              "      <th>4</th>\n",
              "      <td>2015008446</td>\n",
              "      <td>Pittsburgh Pirates Manager Clint Hurdle ejecte...</td>\n",
              "      <td>402</td>\n",
              "      <td>201500111</td>\n",
              "      <td>116346</td>\n",
              "      <td>4/14/15</td>\n",
              "      <td>Y</td>\n",
              "      <td>I</td>\n",
              "      <td>Pittsburgh Pirates</td>\n",
              "      <td>True</td>\n",
              "    </tr>\n",
              "  </tbody>\n",
              "</table>\n",
              "</div>"
            ],
            "text/plain": [
              "        ab_id  ... is_home_team\n",
              "0  2015003219  ...         True\n",
              "1  2015003219  ...         True\n",
              "2  2015004134  ...         True\n",
              "3  2015006692  ...         True\n",
              "4  2015008446  ...         True\n",
              "\n",
              "[5 rows x 10 columns]"
            ]
          },
          "metadata": {
            "tags": []
          },
          "execution_count": 28
        }
      ]
    },
    {
      "cell_type": "code",
      "metadata": {
        "id": "JtVnA9bEqN83",
        "outputId": "4d5365b1-5fd7-473c-ae67-5399c5227fd0",
        "colab": {
          "base_uri": "https://localhost:8080/",
          "height": 601
        }
      },
      "source": [
        "# Bar chart distribution of top 10 teams for player ejected with human-readable team names\n",
        "display(ejections_df['team'].value_counts(normalize=True)[:10])\n",
        "ejections_top10 = ejections_df['team'].value_counts(normalize=True)[:10].plot(kind='bar')\n",
        "ejections_top10.set_title('Distribution of Top 10 Teams for Player Ejected', fontdict=font_dict)\n",
        "ejections_top10.set_xlabel('Team for Player Ejected')\n",
        "ejections_top10.set_ylabel('Proportion of Frequency')"
      ],
      "execution_count": null,
      "outputs": [
        {
          "output_type": "display_data",
          "data": {
            "text/plain": [
              "Toronto Blue Jays       0.064389\n",
              "Detroit Tigers          0.047306\n",
              "Chicago White Sox       0.047306\n",
              "New York Yankees        0.044678\n",
              "Pittsburgh Pirates      0.043364\n",
              "Kansas City Royals      0.042050\n",
              "San Diego Padres        0.040736\n",
              "Los Angeles Dodgers     0.036794\n",
              "Chicago Cubs            0.036794\n",
              "Washington Nationals    0.036794\n",
              "Name: team, dtype: float64"
            ]
          },
          "metadata": {
            "tags": []
          }
        },
        {
          "output_type": "execute_result",
          "data": {
            "text/plain": [
              "Text(0, 0.5, 'Proportion of Frequency')"
            ]
          },
          "metadata": {
            "tags": []
          },
          "execution_count": 29
        },
        {
          "output_type": "display_data",
          "data": {
            "image/png": "[encoded data removed]",
            "text/plain": [
              "<Figure size 432x288 with 1 Axes>"
            ]
          },
          "metadata": {
            "tags": []
          }
        }
      ]
    },
    {
      "cell_type": "markdown",
      "metadata": {
        "id": "qNZVaLQqq16r"
      },
      "source": [
        "From the above distribution, we see that the Toronto Blue Jays is the team with the highest proportion of players ejected from a game. Interestingly, the Toronto Blue Jays have a proportion of frequency value of over one percent greater than the second team, which is the Chicago White Sox. These two teams have the highest delta/difference in frequency values. As for the Chicago White Sox and the other eight teams in the top 10 teams, each of their respective proportion of frequency values is relatively similar. From the above distribution, we see that the distribution for these nine remaining teams relatively decreases by smaller amounts and eventually levels out."
      ]
    },
    {
      "cell_type": "code",
      "metadata": {
        "id": "HTsQErriq-cv",
        "outputId": "5b94291c-6490-44f2-fc72-cb7b4dcfe1ef",
        "colab": {
          "base_uri": "https://localhost:8080/",
          "height": 479
        }
      },
      "source": [
        "# Loading in games data set\n",
        "games_df = pd.read_csv('/content/drive/Shared drives/CSE 158/data/games.csv')\n",
        "games_df.head()"
      ],
      "execution_count": null,
      "outputs": [
        {
          "output_type": "execute_result",
          "data": {
            "text/html": [
              "<div>\n",
              "<style scoped>\n",
              "    .dataframe tbody tr th:only-of-type {\n",
              "        vertical-align: middle;\n",
              "    }\n",
              "\n",
              "    .dataframe tbody tr th {\n",
              "        vertical-align: top;\n",
              "    }\n",
              "\n",
              "    .dataframe thead th {\n",
              "        text-align: right;\n",
              "    }\n",
              "</style>\n",
              "<table border=\"1\" class=\"dataframe\">\n",
              "  <thead>\n",
              "    <tr style=\"text-align: right;\">\n",
              "      <th></th>\n",
              "      <th>attendance</th>\n",
              "      <th>away_final_score</th>\n",
              "      <th>away_team</th>\n",
              "      <th>date</th>\n",
              "      <th>elapsed_time</th>\n",
              "      <th>g_id</th>\n",
              "      <th>home_final_score</th>\n",
              "      <th>home_team</th>\n",
              "      <th>start_time</th>\n",
              "      <th>umpire_1B</th>\n",
              "      <th>umpire_2B</th>\n",
              "      <th>umpire_3B</th>\n",
              "      <th>umpire_HP</th>\n",
              "      <th>venue_name</th>\n",
              "      <th>weather</th>\n",
              "      <th>wind</th>\n",
              "      <th>delay</th>\n",
              "    </tr>\n",
              "  </thead>\n",
              "  <tbody>\n",
              "    <tr>\n",
              "      <th>0</th>\n",
              "      <td>35055</td>\n",
              "      <td>3</td>\n",
              "      <td>sln</td>\n",
              "      <td>2015-04-05</td>\n",
              "      <td>184</td>\n",
              "      <td>201500001</td>\n",
              "      <td>0</td>\n",
              "      <td>chn</td>\n",
              "      <td>7:17 PM</td>\n",
              "      <td>Mark Wegner</td>\n",
              "      <td>Marty Foster</td>\n",
              "      <td>Mike Muchlinski</td>\n",
              "      <td>Mike Winters</td>\n",
              "      <td>Wrigley Field</td>\n",
              "      <td>44 degrees, clear</td>\n",
              "      <td>7 mph, In from CF</td>\n",
              "      <td>0</td>\n",
              "    </tr>\n",
              "    <tr>\n",
              "      <th>1</th>\n",
              "      <td>45909</td>\n",
              "      <td>1</td>\n",
              "      <td>ana</td>\n",
              "      <td>2015-04-06</td>\n",
              "      <td>153</td>\n",
              "      <td>201500002</td>\n",
              "      <td>4</td>\n",
              "      <td>sea</td>\n",
              "      <td>1:12 PM</td>\n",
              "      <td>Ron Kulpa</td>\n",
              "      <td>Brian Knight</td>\n",
              "      <td>Vic Carapazza</td>\n",
              "      <td>Larry Vanover</td>\n",
              "      <td>Safeco Field</td>\n",
              "      <td>54 degrees, cloudy</td>\n",
              "      <td>1 mph, Varies</td>\n",
              "      <td>0</td>\n",
              "    </tr>\n",
              "    <tr>\n",
              "      <th>2</th>\n",
              "      <td>36969</td>\n",
              "      <td>2</td>\n",
              "      <td>atl</td>\n",
              "      <td>2015-04-06</td>\n",
              "      <td>156</td>\n",
              "      <td>201500003</td>\n",
              "      <td>1</td>\n",
              "      <td>mia</td>\n",
              "      <td>4:22 PM</td>\n",
              "      <td>Laz Diaz</td>\n",
              "      <td>Chris Guccione</td>\n",
              "      <td>Cory Blaser</td>\n",
              "      <td>Jeff Nelson</td>\n",
              "      <td>Marlins Park</td>\n",
              "      <td>80 degrees, partly cloudy</td>\n",
              "      <td>16 mph, In from CF</td>\n",
              "      <td>16</td>\n",
              "    </tr>\n",
              "    <tr>\n",
              "      <th>3</th>\n",
              "      <td>31042</td>\n",
              "      <td>6</td>\n",
              "      <td>bal</td>\n",
              "      <td>2015-04-06</td>\n",
              "      <td>181</td>\n",
              "      <td>201500004</td>\n",
              "      <td>2</td>\n",
              "      <td>tba</td>\n",
              "      <td>3:12 PM</td>\n",
              "      <td>Ed Hickox</td>\n",
              "      <td>Paul Nauert</td>\n",
              "      <td>Mike Estabrook</td>\n",
              "      <td>Dana DeMuth</td>\n",
              "      <td>Tropicana Field</td>\n",
              "      <td>72 degrees, dome</td>\n",
              "      <td>0 mph, None</td>\n",
              "      <td>0</td>\n",
              "    </tr>\n",
              "    <tr>\n",
              "      <th>4</th>\n",
              "      <td>45549</td>\n",
              "      <td>8</td>\n",
              "      <td>bos</td>\n",
              "      <td>2015-04-06</td>\n",
              "      <td>181</td>\n",
              "      <td>201500005</td>\n",
              "      <td>0</td>\n",
              "      <td>phi</td>\n",
              "      <td>3:08 PM</td>\n",
              "      <td>Phil Cuzzi</td>\n",
              "      <td>Tony Randazzo</td>\n",
              "      <td>Will Little</td>\n",
              "      <td>Gerry Davis</td>\n",
              "      <td>Citizens Bank Park</td>\n",
              "      <td>71 degrees, partly cloudy</td>\n",
              "      <td>11 mph, Out to RF</td>\n",
              "      <td>0</td>\n",
              "    </tr>\n",
              "  </tbody>\n",
              "</table>\n",
              "</div>"
            ],
            "text/plain": [
              "   attendance  away_final_score  ...                wind delay\n",
              "0       35055                 3  ...   7 mph, In from CF     0\n",
              "1       45909                 1  ...       1 mph, Varies     0\n",
              "2       36969                 2  ...  16 mph, In from CF    16\n",
              "3       31042                 6  ...         0 mph, None     0\n",
              "4       45549                 8  ...   11 mph, Out to RF     0\n",
              "\n",
              "[5 rows x 17 columns]"
            ]
          },
          "metadata": {
            "tags": []
          },
          "execution_count": 30
        }
      ]
    },
    {
      "cell_type": "code",
      "metadata": {
        "id": "BpyZ3Eo2s9Tp",
        "outputId": "bd8dc4af-8938-460f-90b8-d4b99350c192",
        "colab": {
          "base_uri": "https://localhost:8080/",
          "height": 204
        }
      },
      "source": [
        "# Distributions of top 10 start times \n",
        "games_df['start_time'].value_counts(normalize=True)[:10]"
      ],
      "execution_count": null,
      "outputs": [
        {
          "output_type": "execute_result",
          "data": {
            "text/plain": [
              "7:10 PM    0.163511\n",
              "7:11 PM    0.081395\n",
              "7:08 PM    0.060198\n",
              "7:07 PM    0.058860\n",
              "1:10 PM    0.050731\n",
              "1:11 PM    0.035810\n",
              "7:09 PM    0.031900\n",
              "7:15 PM    0.030562\n",
              "7:06 PM    0.022844\n",
              "6:40 PM    0.021815\n",
              "Name: start_time, dtype: float64"
            ]
          },
          "metadata": {
            "tags": []
          },
          "execution_count": 31
        }
      ]
    },
    {
      "cell_type": "code",
      "metadata": {
        "id": "_h8gdWrxtcoI",
        "outputId": "37558e40-3c4c-492a-ca46-01c064f8f07f",
        "colab": {
          "base_uri": "https://localhost:8080/",
          "height": 564
        }
      },
      "source": [
        "# Determining if Start Time Affects a Player’s Skills\n",
        "# Merging atbats and games data sets\n",
        "atbats_and_games_df = pd.merge(atbats, games_df, on='g_id')\n",
        "atbats_and_games_df.head()"
      ],
      "execution_count": null,
      "outputs": [
        {
          "output_type": "execute_result",
          "data": {
            "text/html": [
              "<div>\n",
              "<style scoped>\n",
              "    .dataframe tbody tr th:only-of-type {\n",
              "        vertical-align: middle;\n",
              "    }\n",
              "\n",
              "    .dataframe tbody tr th {\n",
              "        vertical-align: top;\n",
              "    }\n",
              "\n",
              "    .dataframe thead th {\n",
              "        text-align: right;\n",
              "    }\n",
              "</style>\n",
              "<table border=\"1\" class=\"dataframe\">\n",
              "  <thead>\n",
              "    <tr style=\"text-align: right;\">\n",
              "      <th></th>\n",
              "      <th>ab_id</th>\n",
              "      <th>batter_id</th>\n",
              "      <th>event</th>\n",
              "      <th>g_id</th>\n",
              "      <th>inning</th>\n",
              "      <th>o</th>\n",
              "      <th>p_score</th>\n",
              "      <th>p_throws</th>\n",
              "      <th>pitcher_id</th>\n",
              "      <th>stand</th>\n",
              "      <th>top</th>\n",
              "      <th>attendance</th>\n",
              "      <th>away_final_score</th>\n",
              "      <th>away_team</th>\n",
              "      <th>date</th>\n",
              "      <th>elapsed_time</th>\n",
              "      <th>home_final_score</th>\n",
              "      <th>home_team</th>\n",
              "      <th>start_time</th>\n",
              "      <th>umpire_1B</th>\n",
              "      <th>umpire_2B</th>\n",
              "      <th>umpire_3B</th>\n",
              "      <th>umpire_HP</th>\n",
              "      <th>venue_name</th>\n",
              "      <th>weather</th>\n",
              "      <th>wind</th>\n",
              "      <th>delay</th>\n",
              "    </tr>\n",
              "  </thead>\n",
              "  <tbody>\n",
              "    <tr>\n",
              "      <th>0</th>\n",
              "      <td>2015000001</td>\n",
              "      <td>572761</td>\n",
              "      <td>0</td>\n",
              "      <td>201500001</td>\n",
              "      <td>1</td>\n",
              "      <td>1</td>\n",
              "      <td>0</td>\n",
              "      <td>L</td>\n",
              "      <td>452657</td>\n",
              "      <td>L</td>\n",
              "      <td>True</td>\n",
              "      <td>35055</td>\n",
              "      <td>3</td>\n",
              "      <td>sln</td>\n",
              "      <td>2015-04-05</td>\n",
              "      <td>184</td>\n",
              "      <td>0</td>\n",
              "      <td>chn</td>\n",
              "      <td>7:17 PM</td>\n",
              "      <td>Mark Wegner</td>\n",
              "      <td>Marty Foster</td>\n",
              "      <td>Mike Muchlinski</td>\n",
              "      <td>Mike Winters</td>\n",
              "      <td>Wrigley Field</td>\n",
              "      <td>44 degrees, clear</td>\n",
              "      <td>7 mph, In from CF</td>\n",
              "      <td>0</td>\n",
              "    </tr>\n",
              "    <tr>\n",
              "      <th>1</th>\n",
              "      <td>2015000002</td>\n",
              "      <td>518792</td>\n",
              "      <td>1</td>\n",
              "      <td>201500001</td>\n",
              "      <td>1</td>\n",
              "      <td>1</td>\n",
              "      <td>0</td>\n",
              "      <td>L</td>\n",
              "      <td>452657</td>\n",
              "      <td>L</td>\n",
              "      <td>True</td>\n",
              "      <td>35055</td>\n",
              "      <td>3</td>\n",
              "      <td>sln</td>\n",
              "      <td>2015-04-05</td>\n",
              "      <td>184</td>\n",
              "      <td>0</td>\n",
              "      <td>chn</td>\n",
              "      <td>7:17 PM</td>\n",
              "      <td>Mark Wegner</td>\n",
              "      <td>Marty Foster</td>\n",
              "      <td>Mike Muchlinski</td>\n",
              "      <td>Mike Winters</td>\n",
              "      <td>Wrigley Field</td>\n",
              "      <td>44 degrees, clear</td>\n",
              "      <td>7 mph, In from CF</td>\n",
              "      <td>0</td>\n",
              "    </tr>\n",
              "    <tr>\n",
              "      <th>2</th>\n",
              "      <td>2015000003</td>\n",
              "      <td>407812</td>\n",
              "      <td>1</td>\n",
              "      <td>201500001</td>\n",
              "      <td>1</td>\n",
              "      <td>1</td>\n",
              "      <td>0</td>\n",
              "      <td>L</td>\n",
              "      <td>452657</td>\n",
              "      <td>R</td>\n",
              "      <td>True</td>\n",
              "      <td>35055</td>\n",
              "      <td>3</td>\n",
              "      <td>sln</td>\n",
              "      <td>2015-04-05</td>\n",
              "      <td>184</td>\n",
              "      <td>0</td>\n",
              "      <td>chn</td>\n",
              "      <td>7:17 PM</td>\n",
              "      <td>Mark Wegner</td>\n",
              "      <td>Marty Foster</td>\n",
              "      <td>Mike Muchlinski</td>\n",
              "      <td>Mike Winters</td>\n",
              "      <td>Wrigley Field</td>\n",
              "      <td>44 degrees, clear</td>\n",
              "      <td>7 mph, In from CF</td>\n",
              "      <td>0</td>\n",
              "    </tr>\n",
              "    <tr>\n",
              "      <th>3</th>\n",
              "      <td>2015000004</td>\n",
              "      <td>425509</td>\n",
              "      <td>0</td>\n",
              "      <td>201500001</td>\n",
              "      <td>1</td>\n",
              "      <td>2</td>\n",
              "      <td>0</td>\n",
              "      <td>L</td>\n",
              "      <td>452657</td>\n",
              "      <td>R</td>\n",
              "      <td>True</td>\n",
              "      <td>35055</td>\n",
              "      <td>3</td>\n",
              "      <td>sln</td>\n",
              "      <td>2015-04-05</td>\n",
              "      <td>184</td>\n",
              "      <td>0</td>\n",
              "      <td>chn</td>\n",
              "      <td>7:17 PM</td>\n",
              "      <td>Mark Wegner</td>\n",
              "      <td>Marty Foster</td>\n",
              "      <td>Mike Muchlinski</td>\n",
              "      <td>Mike Winters</td>\n",
              "      <td>Wrigley Field</td>\n",
              "      <td>44 degrees, clear</td>\n",
              "      <td>7 mph, In from CF</td>\n",
              "      <td>0</td>\n",
              "    </tr>\n",
              "    <tr>\n",
              "      <th>4</th>\n",
              "      <td>2015000005</td>\n",
              "      <td>571431</td>\n",
              "      <td>0</td>\n",
              "      <td>201500001</td>\n",
              "      <td>1</td>\n",
              "      <td>3</td>\n",
              "      <td>0</td>\n",
              "      <td>L</td>\n",
              "      <td>452657</td>\n",
              "      <td>L</td>\n",
              "      <td>True</td>\n",
              "      <td>35055</td>\n",
              "      <td>3</td>\n",
              "      <td>sln</td>\n",
              "      <td>2015-04-05</td>\n",
              "      <td>184</td>\n",
              "      <td>0</td>\n",
              "      <td>chn</td>\n",
              "      <td>7:17 PM</td>\n",
              "      <td>Mark Wegner</td>\n",
              "      <td>Marty Foster</td>\n",
              "      <td>Mike Muchlinski</td>\n",
              "      <td>Mike Winters</td>\n",
              "      <td>Wrigley Field</td>\n",
              "      <td>44 degrees, clear</td>\n",
              "      <td>7 mph, In from CF</td>\n",
              "      <td>0</td>\n",
              "    </tr>\n",
              "  </tbody>\n",
              "</table>\n",
              "</div>"
            ],
            "text/plain": [
              "        ab_id  batter_id  event  ...            weather               wind  delay\n",
              "0  2015000001     572761      0  ...  44 degrees, clear  7 mph, In from CF      0\n",
              "1  2015000002     518792      1  ...  44 degrees, clear  7 mph, In from CF      0\n",
              "2  2015000003     407812      1  ...  44 degrees, clear  7 mph, In from CF      0\n",
              "3  2015000004     425509      0  ...  44 degrees, clear  7 mph, In from CF      0\n",
              "4  2015000005     571431      0  ...  44 degrees, clear  7 mph, In from CF      0\n",
              "\n",
              "[5 rows x 27 columns]"
            ]
          },
          "metadata": {
            "tags": []
          },
          "execution_count": 32
        }
      ]
    },
    {
      "cell_type": "code",
      "metadata": {
        "id": "FazFRXUrtm1t",
        "outputId": "d51ce15d-b44d-49ed-b696-07ff8cef29b3",
        "colab": {
          "base_uri": "https://localhost:8080/",
          "height": 34
        }
      },
      "source": [
        "# Group by event, whether the player is out (0) or the player gets on a base (1)\n",
        "grouped_df = atbats_and_games_df.groupby('event')\n",
        "grouped_df"
      ],
      "execution_count": null,
      "outputs": [
        {
          "output_type": "execute_result",
          "data": {
            "text/plain": [
              "<pandas.core.groupby.generic.DataFrameGroupBy object at 0x7fae6764d9b0>"
            ]
          },
          "metadata": {
            "tags": []
          },
          "execution_count": 33
        }
      ]
    },
    {
      "cell_type": "code",
      "metadata": {
        "id": "1C1KMbn_txph",
        "outputId": "bcb0be94-0a0e-42f9-b4f2-094cab633f86",
        "colab": {
          "base_uri": "https://localhost:8080/",
          "height": 564
        }
      },
      "source": [
        "# Get all events where the player is out\n",
        "group0_df = grouped_df.get_group(0)\n",
        "group0_df.head()"
      ],
      "execution_count": null,
      "outputs": [
        {
          "output_type": "execute_result",
          "data": {
            "text/html": [
              "<div>\n",
              "<style scoped>\n",
              "    .dataframe tbody tr th:only-of-type {\n",
              "        vertical-align: middle;\n",
              "    }\n",
              "\n",
              "    .dataframe tbody tr th {\n",
              "        vertical-align: top;\n",
              "    }\n",
              "\n",
              "    .dataframe thead th {\n",
              "        text-align: right;\n",
              "    }\n",
              "</style>\n",
              "<table border=\"1\" class=\"dataframe\">\n",
              "  <thead>\n",
              "    <tr style=\"text-align: right;\">\n",
              "      <th></th>\n",
              "      <th>ab_id</th>\n",
              "      <th>batter_id</th>\n",
              "      <th>event</th>\n",
              "      <th>g_id</th>\n",
              "      <th>inning</th>\n",
              "      <th>o</th>\n",
              "      <th>p_score</th>\n",
              "      <th>p_throws</th>\n",
              "      <th>pitcher_id</th>\n",
              "      <th>stand</th>\n",
              "      <th>top</th>\n",
              "      <th>attendance</th>\n",
              "      <th>away_final_score</th>\n",
              "      <th>away_team</th>\n",
              "      <th>date</th>\n",
              "      <th>elapsed_time</th>\n",
              "      <th>home_final_score</th>\n",
              "      <th>home_team</th>\n",
              "      <th>start_time</th>\n",
              "      <th>umpire_1B</th>\n",
              "      <th>umpire_2B</th>\n",
              "      <th>umpire_3B</th>\n",
              "      <th>umpire_HP</th>\n",
              "      <th>venue_name</th>\n",
              "      <th>weather</th>\n",
              "      <th>wind</th>\n",
              "      <th>delay</th>\n",
              "    </tr>\n",
              "  </thead>\n",
              "  <tbody>\n",
              "    <tr>\n",
              "      <th>0</th>\n",
              "      <td>2015000001</td>\n",
              "      <td>572761</td>\n",
              "      <td>0</td>\n",
              "      <td>201500001</td>\n",
              "      <td>1</td>\n",
              "      <td>1</td>\n",
              "      <td>0</td>\n",
              "      <td>L</td>\n",
              "      <td>452657</td>\n",
              "      <td>L</td>\n",
              "      <td>True</td>\n",
              "      <td>35055</td>\n",
              "      <td>3</td>\n",
              "      <td>sln</td>\n",
              "      <td>2015-04-05</td>\n",
              "      <td>184</td>\n",
              "      <td>0</td>\n",
              "      <td>chn</td>\n",
              "      <td>7:17 PM</td>\n",
              "      <td>Mark Wegner</td>\n",
              "      <td>Marty Foster</td>\n",
              "      <td>Mike Muchlinski</td>\n",
              "      <td>Mike Winters</td>\n",
              "      <td>Wrigley Field</td>\n",
              "      <td>44 degrees, clear</td>\n",
              "      <td>7 mph, In from CF</td>\n",
              "      <td>0</td>\n",
              "    </tr>\n",
              "    <tr>\n",
              "      <th>3</th>\n",
              "      <td>2015000004</td>\n",
              "      <td>425509</td>\n",
              "      <td>0</td>\n",
              "      <td>201500001</td>\n",
              "      <td>1</td>\n",
              "      <td>2</td>\n",
              "      <td>0</td>\n",
              "      <td>L</td>\n",
              "      <td>452657</td>\n",
              "      <td>R</td>\n",
              "      <td>True</td>\n",
              "      <td>35055</td>\n",
              "      <td>3</td>\n",
              "      <td>sln</td>\n",
              "      <td>2015-04-05</td>\n",
              "      <td>184</td>\n",
              "      <td>0</td>\n",
              "      <td>chn</td>\n",
              "      <td>7:17 PM</td>\n",
              "      <td>Mark Wegner</td>\n",
              "      <td>Marty Foster</td>\n",
              "      <td>Mike Muchlinski</td>\n",
              "      <td>Mike Winters</td>\n",
              "      <td>Wrigley Field</td>\n",
              "      <td>44 degrees, clear</td>\n",
              "      <td>7 mph, In from CF</td>\n",
              "      <td>0</td>\n",
              "    </tr>\n",
              "    <tr>\n",
              "      <th>4</th>\n",
              "      <td>2015000005</td>\n",
              "      <td>571431</td>\n",
              "      <td>0</td>\n",
              "      <td>201500001</td>\n",
              "      <td>1</td>\n",
              "      <td>3</td>\n",
              "      <td>0</td>\n",
              "      <td>L</td>\n",
              "      <td>452657</td>\n",
              "      <td>L</td>\n",
              "      <td>True</td>\n",
              "      <td>35055</td>\n",
              "      <td>3</td>\n",
              "      <td>sln</td>\n",
              "      <td>2015-04-05</td>\n",
              "      <td>184</td>\n",
              "      <td>0</td>\n",
              "      <td>chn</td>\n",
              "      <td>7:17 PM</td>\n",
              "      <td>Mark Wegner</td>\n",
              "      <td>Marty Foster</td>\n",
              "      <td>Mike Muchlinski</td>\n",
              "      <td>Mike Winters</td>\n",
              "      <td>Wrigley Field</td>\n",
              "      <td>44 degrees, clear</td>\n",
              "      <td>7 mph, In from CF</td>\n",
              "      <td>0</td>\n",
              "    </tr>\n",
              "    <tr>\n",
              "      <th>6</th>\n",
              "      <td>2015000007</td>\n",
              "      <td>624585</td>\n",
              "      <td>0</td>\n",
              "      <td>201500001</td>\n",
              "      <td>1</td>\n",
              "      <td>1</td>\n",
              "      <td>1</td>\n",
              "      <td>R</td>\n",
              "      <td>425794</td>\n",
              "      <td>R</td>\n",
              "      <td>False</td>\n",
              "      <td>35055</td>\n",
              "      <td>3</td>\n",
              "      <td>sln</td>\n",
              "      <td>2015-04-05</td>\n",
              "      <td>184</td>\n",
              "      <td>0</td>\n",
              "      <td>chn</td>\n",
              "      <td>7:17 PM</td>\n",
              "      <td>Mark Wegner</td>\n",
              "      <td>Marty Foster</td>\n",
              "      <td>Mike Muchlinski</td>\n",
              "      <td>Mike Winters</td>\n",
              "      <td>Wrigley Field</td>\n",
              "      <td>44 degrees, clear</td>\n",
              "      <td>7 mph, In from CF</td>\n",
              "      <td>0</td>\n",
              "    </tr>\n",
              "    <tr>\n",
              "      <th>7</th>\n",
              "      <td>2015000008</td>\n",
              "      <td>519203</td>\n",
              "      <td>0</td>\n",
              "      <td>201500001</td>\n",
              "      <td>1</td>\n",
              "      <td>2</td>\n",
              "      <td>1</td>\n",
              "      <td>R</td>\n",
              "      <td>425794</td>\n",
              "      <td>L</td>\n",
              "      <td>False</td>\n",
              "      <td>35055</td>\n",
              "      <td>3</td>\n",
              "      <td>sln</td>\n",
              "      <td>2015-04-05</td>\n",
              "      <td>184</td>\n",
              "      <td>0</td>\n",
              "      <td>chn</td>\n",
              "      <td>7:17 PM</td>\n",
              "      <td>Mark Wegner</td>\n",
              "      <td>Marty Foster</td>\n",
              "      <td>Mike Muchlinski</td>\n",
              "      <td>Mike Winters</td>\n",
              "      <td>Wrigley Field</td>\n",
              "      <td>44 degrees, clear</td>\n",
              "      <td>7 mph, In from CF</td>\n",
              "      <td>0</td>\n",
              "    </tr>\n",
              "  </tbody>\n",
              "</table>\n",
              "</div>"
            ],
            "text/plain": [
              "        ab_id  batter_id  event  ...            weather               wind  delay\n",
              "0  2015000001     572761      0  ...  44 degrees, clear  7 mph, In from CF      0\n",
              "3  2015000004     425509      0  ...  44 degrees, clear  7 mph, In from CF      0\n",
              "4  2015000005     571431      0  ...  44 degrees, clear  7 mph, In from CF      0\n",
              "6  2015000007     624585      0  ...  44 degrees, clear  7 mph, In from CF      0\n",
              "7  2015000008     519203      0  ...  44 degrees, clear  7 mph, In from CF      0\n",
              "\n",
              "[5 rows x 27 columns]"
            ]
          },
          "metadata": {
            "tags": []
          },
          "execution_count": 34
        }
      ]
    },
    {
      "cell_type": "code",
      "metadata": {
        "id": "NoVVqy2Ht9bY",
        "outputId": "7dfaf268-a273-4616-8a4b-d47d87f8c838",
        "colab": {
          "base_uri": "https://localhost:8080/",
          "height": 204
        }
      },
      "source": [
        "# Proportions of the top 10 start times when the event type is an out\n",
        "group0_df['start_time'].value_counts(normalize=True)[:10]"
      ],
      "execution_count": null,
      "outputs": [
        {
          "output_type": "execute_result",
          "data": {
            "text/plain": [
              "7:10 PM    0.163886\n",
              "7:11 PM    0.081372\n",
              "7:08 PM    0.060208\n",
              "7:07 PM    0.058549\n",
              "1:10 PM    0.050502\n",
              "1:11 PM    0.035903\n",
              "7:09 PM    0.032055\n",
              "7:15 PM    0.030564\n",
              "7:06 PM    0.022718\n",
              "6:40 PM    0.021846\n",
              "Name: start_time, dtype: float64"
            ]
          },
          "metadata": {
            "tags": []
          },
          "execution_count": 35
        }
      ]
    },
    {
      "cell_type": "code",
      "metadata": {
        "id": "Ui0IiIN6uA02",
        "outputId": "bdf0bcd2-a09f-4139-f874-2a4fc385442f",
        "colab": {
          "base_uri": "https://localhost:8080/",
          "height": 344
        }
      },
      "source": [
        "# Bar chart distribution of the top 10 start times when the event type is an out\n",
        "group0 = group0_df['start_time'].value_counts(normalize=True)[:10].plot(kind='bar')\n",
        "group0.set_title('Distribution of Top 10 Start Types When the Event Type is an Out', fontdict=font_dict)\n",
        "group0.set_xlabel('Start Time')\n",
        "group0.set_ylabel('Proportion of Frequency')"
      ],
      "execution_count": null,
      "outputs": [
        {
          "output_type": "execute_result",
          "data": {
            "text/plain": [
              "Text(0, 0.5, 'Proportion of Frequency')"
            ]
          },
          "metadata": {
            "tags": []
          },
          "execution_count": 36
        },
        {
          "output_type": "display_data",
          "data": {
            "image/png": "[encoded data removed]",
            "text/plain": [
              "<Figure size 432x288 with 1 Axes>"
            ]
          },
          "metadata": {
            "tags": []
          }
        }
      ]
    },
    {
      "cell_type": "code",
      "metadata": {
        "id": "_f2SSf7uuEtd",
        "outputId": "1f8e681a-b537-45d1-c1aa-847c87c514c1",
        "colab": {
          "base_uri": "https://localhost:8080/",
          "height": 564
        }
      },
      "source": [
        "# Get all events where the player gets on a base\n",
        "group1_df = grouped_df.get_group(1)\n",
        "group1_df.head()"
      ],
      "execution_count": null,
      "outputs": [
        {
          "output_type": "execute_result",
          "data": {
            "text/html": [
              "<div>\n",
              "<style scoped>\n",
              "    .dataframe tbody tr th:only-of-type {\n",
              "        vertical-align: middle;\n",
              "    }\n",
              "\n",
              "    .dataframe tbody tr th {\n",
              "        vertical-align: top;\n",
              "    }\n",
              "\n",
              "    .dataframe thead th {\n",
              "        text-align: right;\n",
              "    }\n",
              "</style>\n",
              "<table border=\"1\" class=\"dataframe\">\n",
              "  <thead>\n",
              "    <tr style=\"text-align: right;\">\n",
              "      <th></th>\n",
              "      <th>ab_id</th>\n",
              "      <th>batter_id</th>\n",
              "      <th>event</th>\n",
              "      <th>g_id</th>\n",
              "      <th>inning</th>\n",
              "      <th>o</th>\n",
              "      <th>p_score</th>\n",
              "      <th>p_throws</th>\n",
              "      <th>pitcher_id</th>\n",
              "      <th>stand</th>\n",
              "      <th>top</th>\n",
              "      <th>attendance</th>\n",
              "      <th>away_final_score</th>\n",
              "      <th>away_team</th>\n",
              "      <th>date</th>\n",
              "      <th>elapsed_time</th>\n",
              "      <th>home_final_score</th>\n",
              "      <th>home_team</th>\n",
              "      <th>start_time</th>\n",
              "      <th>umpire_1B</th>\n",
              "      <th>umpire_2B</th>\n",
              "      <th>umpire_3B</th>\n",
              "      <th>umpire_HP</th>\n",
              "      <th>venue_name</th>\n",
              "      <th>weather</th>\n",
              "      <th>wind</th>\n",
              "      <th>delay</th>\n",
              "    </tr>\n",
              "  </thead>\n",
              "  <tbody>\n",
              "    <tr>\n",
              "      <th>1</th>\n",
              "      <td>2015000002</td>\n",
              "      <td>518792</td>\n",
              "      <td>1</td>\n",
              "      <td>201500001</td>\n",
              "      <td>1</td>\n",
              "      <td>1</td>\n",
              "      <td>0</td>\n",
              "      <td>L</td>\n",
              "      <td>452657</td>\n",
              "      <td>L</td>\n",
              "      <td>True</td>\n",
              "      <td>35055</td>\n",
              "      <td>3</td>\n",
              "      <td>sln</td>\n",
              "      <td>2015-04-05</td>\n",
              "      <td>184</td>\n",
              "      <td>0</td>\n",
              "      <td>chn</td>\n",
              "      <td>7:17 PM</td>\n",
              "      <td>Mark Wegner</td>\n",
              "      <td>Marty Foster</td>\n",
              "      <td>Mike Muchlinski</td>\n",
              "      <td>Mike Winters</td>\n",
              "      <td>Wrigley Field</td>\n",
              "      <td>44 degrees, clear</td>\n",
              "      <td>7 mph, In from CF</td>\n",
              "      <td>0</td>\n",
              "    </tr>\n",
              "    <tr>\n",
              "      <th>2</th>\n",
              "      <td>2015000003</td>\n",
              "      <td>407812</td>\n",
              "      <td>1</td>\n",
              "      <td>201500001</td>\n",
              "      <td>1</td>\n",
              "      <td>1</td>\n",
              "      <td>0</td>\n",
              "      <td>L</td>\n",
              "      <td>452657</td>\n",
              "      <td>R</td>\n",
              "      <td>True</td>\n",
              "      <td>35055</td>\n",
              "      <td>3</td>\n",
              "      <td>sln</td>\n",
              "      <td>2015-04-05</td>\n",
              "      <td>184</td>\n",
              "      <td>0</td>\n",
              "      <td>chn</td>\n",
              "      <td>7:17 PM</td>\n",
              "      <td>Mark Wegner</td>\n",
              "      <td>Marty Foster</td>\n",
              "      <td>Mike Muchlinski</td>\n",
              "      <td>Mike Winters</td>\n",
              "      <td>Wrigley Field</td>\n",
              "      <td>44 degrees, clear</td>\n",
              "      <td>7 mph, In from CF</td>\n",
              "      <td>0</td>\n",
              "    </tr>\n",
              "    <tr>\n",
              "      <th>5</th>\n",
              "      <td>2015000006</td>\n",
              "      <td>451594</td>\n",
              "      <td>1</td>\n",
              "      <td>201500001</td>\n",
              "      <td>1</td>\n",
              "      <td>0</td>\n",
              "      <td>1</td>\n",
              "      <td>R</td>\n",
              "      <td>425794</td>\n",
              "      <td>L</td>\n",
              "      <td>False</td>\n",
              "      <td>35055</td>\n",
              "      <td>3</td>\n",
              "      <td>sln</td>\n",
              "      <td>2015-04-05</td>\n",
              "      <td>184</td>\n",
              "      <td>0</td>\n",
              "      <td>chn</td>\n",
              "      <td>7:17 PM</td>\n",
              "      <td>Mark Wegner</td>\n",
              "      <td>Marty Foster</td>\n",
              "      <td>Mike Muchlinski</td>\n",
              "      <td>Mike Winters</td>\n",
              "      <td>Wrigley Field</td>\n",
              "      <td>44 degrees, clear</td>\n",
              "      <td>7 mph, In from CF</td>\n",
              "      <td>0</td>\n",
              "    </tr>\n",
              "    <tr>\n",
              "      <th>10</th>\n",
              "      <td>2015000011</td>\n",
              "      <td>543939</td>\n",
              "      <td>1</td>\n",
              "      <td>201500001</td>\n",
              "      <td>2</td>\n",
              "      <td>1</td>\n",
              "      <td>0</td>\n",
              "      <td>L</td>\n",
              "      <td>452657</td>\n",
              "      <td>L</td>\n",
              "      <td>True</td>\n",
              "      <td>35055</td>\n",
              "      <td>3</td>\n",
              "      <td>sln</td>\n",
              "      <td>2015-04-05</td>\n",
              "      <td>184</td>\n",
              "      <td>0</td>\n",
              "      <td>chn</td>\n",
              "      <td>7:17 PM</td>\n",
              "      <td>Mark Wegner</td>\n",
              "      <td>Marty Foster</td>\n",
              "      <td>Mike Muchlinski</td>\n",
              "      <td>Mike Winters</td>\n",
              "      <td>Wrigley Field</td>\n",
              "      <td>44 degrees, clear</td>\n",
              "      <td>7 mph, In from CF</td>\n",
              "      <td>0</td>\n",
              "    </tr>\n",
              "    <tr>\n",
              "      <th>11</th>\n",
              "      <td>2015000012</td>\n",
              "      <td>445055</td>\n",
              "      <td>1</td>\n",
              "      <td>201500001</td>\n",
              "      <td>2</td>\n",
              "      <td>1</td>\n",
              "      <td>0</td>\n",
              "      <td>L</td>\n",
              "      <td>452657</td>\n",
              "      <td>L</td>\n",
              "      <td>True</td>\n",
              "      <td>35055</td>\n",
              "      <td>3</td>\n",
              "      <td>sln</td>\n",
              "      <td>2015-04-05</td>\n",
              "      <td>184</td>\n",
              "      <td>0</td>\n",
              "      <td>chn</td>\n",
              "      <td>7:17 PM</td>\n",
              "      <td>Mark Wegner</td>\n",
              "      <td>Marty Foster</td>\n",
              "      <td>Mike Muchlinski</td>\n",
              "      <td>Mike Winters</td>\n",
              "      <td>Wrigley Field</td>\n",
              "      <td>44 degrees, clear</td>\n",
              "      <td>7 mph, In from CF</td>\n",
              "      <td>0</td>\n",
              "    </tr>\n",
              "  </tbody>\n",
              "</table>\n",
              "</div>"
            ],
            "text/plain": [
              "         ab_id  batter_id  event  ...            weather               wind  delay\n",
              "1   2015000002     518792      1  ...  44 degrees, clear  7 mph, In from CF      0\n",
              "2   2015000003     407812      1  ...  44 degrees, clear  7 mph, In from CF      0\n",
              "5   2015000006     451594      1  ...  44 degrees, clear  7 mph, In from CF      0\n",
              "10  2015000011     543939      1  ...  44 degrees, clear  7 mph, In from CF      0\n",
              "11  2015000012     445055      1  ...  44 degrees, clear  7 mph, In from CF      0\n",
              "\n",
              "[5 rows x 27 columns]"
            ]
          },
          "metadata": {
            "tags": []
          },
          "execution_count": 37
        }
      ]
    },
    {
      "cell_type": "code",
      "metadata": {
        "id": "7WN3XcoSuM4V",
        "outputId": "370f03ab-88a5-4bf6-877e-bd6972a6638d",
        "colab": {
          "base_uri": "https://localhost:8080/",
          "height": 204
        }
      },
      "source": [
        "# Proportions of the top 10 start times when the event type is getting on a base\n",
        "group1_df['start_time'].value_counts(normalize=True)[:10]"
      ],
      "execution_count": null,
      "outputs": [
        {
          "output_type": "execute_result",
          "data": {
            "text/plain": [
              "7:10 PM    0.161929\n",
              "7:11 PM    0.079034\n",
              "7:08 PM    0.060908\n",
              "7:07 PM    0.058719\n",
              "1:10 PM    0.049339\n",
              "1:11 PM    0.036228\n",
              "7:09 PM    0.031915\n",
              "7:15 PM    0.030107\n",
              "6:40 PM    0.022840\n",
              "7:06 PM    0.022578\n",
              "Name: start_time, dtype: float64"
            ]
          },
          "metadata": {
            "tags": []
          },
          "execution_count": 38
        }
      ]
    },
    {
      "cell_type": "code",
      "metadata": {
        "id": "R2kC60sFuQTW",
        "outputId": "65a2469f-a7cf-4a51-d272-26e10f6a97b6",
        "colab": {
          "base_uri": "https://localhost:8080/",
          "height": 344
        }
      },
      "source": [
        "# Bar chart distribution of the top 10 start times when the event type is getting on a base\n",
        "group1 = group1_df['start_time'].value_counts(normalize=True)[:10].plot(kind='bar')\n",
        "group1.set_title('Distribution of Top 10 Start Types When the Event Type is Getting on Base', fontdict=font_dict)\n",
        "group1.set_xlabel('Start Time')\n",
        "group1.set_ylabel('Proportion of Frequency')"
      ],
      "execution_count": null,
      "outputs": [
        {
          "output_type": "execute_result",
          "data": {
            "text/plain": [
              "Text(0, 0.5, 'Proportion of Frequency')"
            ]
          },
          "metadata": {
            "tags": []
          },
          "execution_count": 39
        },
        {
          "output_type": "display_data",
          "data": {
            "image/png": "[encoded data removed]",
            "text/plain": [
              "<Figure size 432x288 with 1 Axes>"
            ]
          },
          "metadata": {
            "tags": []
          }
        }
      ]
    },
    {
      "cell_type": "markdown",
      "metadata": {
        "id": "vY4WyhvQuWSL"
      },
      "source": [
        "From the above distributions, we see that the start time has no effect on the resulting event, specifically whether the event results in the player getting out or on base. Comparing the distributions, we see that events resulting in an out occur marginally more often (16.38% for 7:10pm and 8.13% for 7:11pm) in games with the same start times, such as 7:10pm and 7:11pm, than events resulting in the player getting on a base (16.19% for 7:10pm and 7.90% for 7:11pm). "
      ]
    },
    {
      "cell_type": "code",
      "metadata": {
        "id": "drnyPiTHuSwX",
        "outputId": "c604216b-25c6-4c68-e183-ea1dc0abae6b",
        "colab": {
          "base_uri": "https://localhost:8080/",
          "height": 309
        }
      },
      "source": [
        "# Data Cleaning\n",
        "\n",
        "# Lets clean up the weather and wind columns into separate features\n",
        "temperatures = atbats_and_games_df['weather'].str.split(' degrees,').apply(lambda x: int(x[0]))\n",
        "conditions = atbats_and_games_df['weather'].str.split(' degrees,').apply(lambda x: x[1])\n",
        "wind = atbats_and_games_df['wind'].str.split(' mph,').apply(lambda x: int(x[0]))\n",
        "wind_directions = atbats_and_games_df['wind'].str.split('mph,').apply(lambda x: x[1].strip()).replace({'none': 'None'})\n",
        "\n",
        "atbats_and_games_df = atbats_and_games_df.drop(['weather', 'wind'], axis=1)\n",
        "atbats_and_games_df['temperature'] = temperatures\n",
        "atbats_and_games_df['condition'] = conditions\n",
        "atbats_and_games_df['wind_speed'] = wind\n",
        "atbats_and_games_df['wind_direction'] = wind_directions\n",
        "\n",
        "# For the purposes of batting, only the home plate umpire and first base umpire\n",
        "# are important. Therefore, we will be dropping the 2B and 3B umpires.\n",
        "atbats_and_games_df = atbats_and_games_df.drop(['umpire_2B', 'umpire_3B'], axis=1)\n",
        "\n",
        "# Since we determines that start time does not affect players abilities,\n",
        "# we will be dropping this column as well\n",
        "atbats_and_games_df = atbats_and_games_df.drop('start_time', axis=1)\n",
        "\n",
        "# Since we know that the home team always bats at the bottom of the inning,\n",
        "# we can determine the team of the batter and their opponent. We can also\n",
        "# update the names of the final_score columns and drop the 'top' column\n",
        "atbats_and_games_df['team'] = (atbats_and_games_df\n",
        "                               .apply(lambda x: x['home_team'] if x['top'] == False else x['away_team'], axis=1))\n",
        "atbats_and_games_df['opponent'] = (atbats_and_games_df\n",
        "                               .apply(lambda x: x['away_team'] if x['top'] == True else x['home_team'], axis=1))\n",
        "\n",
        "atbats_and_games_df = atbats_and_games_df.rename(\n",
        "    columns={'home_final_score': 'team_final_score', 'away_final_score': 'opp_final_score'})\n",
        "atbats_and_games_df = atbats_and_games_df.drop(['home_team', 'away_team', 'top'], axis=1)\n",
        "\n",
        "# Lets also break up the date column\n",
        "atbats_and_games_df['year'] = atbats_and_games_df['date'].str.split('-').apply(lambda x: int(x[0]))\n",
        "atbats_and_games_df['month'] = atbats_and_games_df['date'].str.split('-').apply(lambda x: int(x[1]))\n",
        "atbats_and_games_df['day'] = atbats_and_games_df['date'].str.split('-').apply(lambda x: int(x[2]))\n",
        "atbats_and_games_df = atbats_and_games_df.drop('date', axis=1)\n",
        "\n",
        "# Lets do some more renaming to make the data set easier to read\n",
        "atbats_and_games_df = atbats_and_games_df.rename(\n",
        "    columns={'o': 'post_outs', 'p_score': 'opp_score', \n",
        "             'p_throws': 'pitcher_position', 'stand': 'batter_position',\n",
        "             'elapsed_time': 'game_duration'})\n",
        "\n",
        "# Finally, lets organize the columns\n",
        "atbats_and_games_df = atbats_and_games_df[['ab_id', 'batter_id', 'batter_position', \n",
        "                                           'team', 'inning', 'post_outs', 'pitcher_id', \n",
        "                                           'pitcher_position', 'opponent', 'opp_score', \n",
        "                                           'g_id', 'attendance', 'year', 'month', 'day', \n",
        "                                           'game_duration', 'delay', 'temperature', 'condition', \n",
        "                                           'wind_speed', 'wind_direction', 'umpire_HP', \n",
        "                                           'umpire_1B', 'venue_name', 'team_final_score', \n",
        "                                           'opp_final_score', 'event']]\n",
        "\n",
        "atbats_and_games_df.head()"
      ],
      "execution_count": null,
      "outputs": [
        {
          "output_type": "execute_result",
          "data": {
            "text/html": [
              "<div>\n",
              "<style scoped>\n",
              "    .dataframe tbody tr th:only-of-type {\n",
              "        vertical-align: middle;\n",
              "    }\n",
              "\n",
              "    .dataframe tbody tr th {\n",
              "        vertical-align: top;\n",
              "    }\n",
              "\n",
              "    .dataframe thead th {\n",
              "        text-align: right;\n",
              "    }\n",
              "</style>\n",
              "<table border=\"1\" class=\"dataframe\">\n",
              "  <thead>\n",
              "    <tr style=\"text-align: right;\">\n",
              "      <th></th>\n",
              "      <th>ab_id</th>\n",
              "      <th>batter_id</th>\n",
              "      <th>batter_position</th>\n",
              "      <th>team</th>\n",
              "      <th>inning</th>\n",
              "      <th>post_outs</th>\n",
              "      <th>pitcher_id</th>\n",
              "      <th>pitcher_position</th>\n",
              "      <th>opponent</th>\n",
              "      <th>opp_score</th>\n",
              "      <th>g_id</th>\n",
              "      <th>attendance</th>\n",
              "      <th>year</th>\n",
              "      <th>month</th>\n",
              "      <th>day</th>\n",
              "      <th>game_duration</th>\n",
              "      <th>delay</th>\n",
              "      <th>temperature</th>\n",
              "      <th>condition</th>\n",
              "      <th>wind_speed</th>\n",
              "      <th>wind_direction</th>\n",
              "      <th>umpire_HP</th>\n",
              "      <th>umpire_1B</th>\n",
              "      <th>venue_name</th>\n",
              "      <th>team_final_score</th>\n",
              "      <th>opp_final_score</th>\n",
              "      <th>event</th>\n",
              "    </tr>\n",
              "  </thead>\n",
              "  <tbody>\n",
              "    <tr>\n",
              "      <th>0</th>\n",
              "      <td>2015000001</td>\n",
              "      <td>572761</td>\n",
              "      <td>L</td>\n",
              "      <td>sln</td>\n",
              "      <td>1</td>\n",
              "      <td>1</td>\n",
              "      <td>452657</td>\n",
              "      <td>L</td>\n",
              "      <td>sln</td>\n",
              "      <td>0</td>\n",
              "      <td>201500001</td>\n",
              "      <td>35055</td>\n",
              "      <td>2015</td>\n",
              "      <td>4</td>\n",
              "      <td>5</td>\n",
              "      <td>184</td>\n",
              "      <td>0</td>\n",
              "      <td>44</td>\n",
              "      <td>clear</td>\n",
              "      <td>7</td>\n",
              "      <td>In from CF</td>\n",
              "      <td>Mike Winters</td>\n",
              "      <td>Mark Wegner</td>\n",
              "      <td>Wrigley Field</td>\n",
              "      <td>0</td>\n",
              "      <td>3</td>\n",
              "      <td>0</td>\n",
              "    </tr>\n",
              "    <tr>\n",
              "      <th>1</th>\n",
              "      <td>2015000002</td>\n",
              "      <td>518792</td>\n",
              "      <td>L</td>\n",
              "      <td>sln</td>\n",
              "      <td>1</td>\n",
              "      <td>1</td>\n",
              "      <td>452657</td>\n",
              "      <td>L</td>\n",
              "      <td>sln</td>\n",
              "      <td>0</td>\n",
              "      <td>201500001</td>\n",
              "      <td>35055</td>\n",
              "      <td>2015</td>\n",
              "      <td>4</td>\n",
              "      <td>5</td>\n",
              "      <td>184</td>\n",
              "      <td>0</td>\n",
              "      <td>44</td>\n",
              "      <td>clear</td>\n",
              "      <td>7</td>\n",
              "      <td>In from CF</td>\n",
              "      <td>Mike Winters</td>\n",
              "      <td>Mark Wegner</td>\n",
              "      <td>Wrigley Field</td>\n",
              "      <td>0</td>\n",
              "      <td>3</td>\n",
              "      <td>1</td>\n",
              "    </tr>\n",
              "    <tr>\n",
              "      <th>2</th>\n",
              "      <td>2015000003</td>\n",
              "      <td>407812</td>\n",
              "      <td>R</td>\n",
              "      <td>sln</td>\n",
              "      <td>1</td>\n",
              "      <td>1</td>\n",
              "      <td>452657</td>\n",
              "      <td>L</td>\n",
              "      <td>sln</td>\n",
              "      <td>0</td>\n",
              "      <td>201500001</td>\n",
              "      <td>35055</td>\n",
              "      <td>2015</td>\n",
              "      <td>4</td>\n",
              "      <td>5</td>\n",
              "      <td>184</td>\n",
              "      <td>0</td>\n",
              "      <td>44</td>\n",
              "      <td>clear</td>\n",
              "      <td>7</td>\n",
              "      <td>In from CF</td>\n",
              "      <td>Mike Winters</td>\n",
              "      <td>Mark Wegner</td>\n",
              "      <td>Wrigley Field</td>\n",
              "      <td>0</td>\n",
              "      <td>3</td>\n",
              "      <td>1</td>\n",
              "    </tr>\n",
              "    <tr>\n",
              "      <th>3</th>\n",
              "      <td>2015000004</td>\n",
              "      <td>425509</td>\n",
              "      <td>R</td>\n",
              "      <td>sln</td>\n",
              "      <td>1</td>\n",
              "      <td>2</td>\n",
              "      <td>452657</td>\n",
              "      <td>L</td>\n",
              "      <td>sln</td>\n",
              "      <td>0</td>\n",
              "      <td>201500001</td>\n",
              "      <td>35055</td>\n",
              "      <td>2015</td>\n",
              "      <td>4</td>\n",
              "      <td>5</td>\n",
              "      <td>184</td>\n",
              "      <td>0</td>\n",
              "      <td>44</td>\n",
              "      <td>clear</td>\n",
              "      <td>7</td>\n",
              "      <td>In from CF</td>\n",
              "      <td>Mike Winters</td>\n",
              "      <td>Mark Wegner</td>\n",
              "      <td>Wrigley Field</td>\n",
              "      <td>0</td>\n",
              "      <td>3</td>\n",
              "      <td>0</td>\n",
              "    </tr>\n",
              "    <tr>\n",
              "      <th>4</th>\n",
              "      <td>2015000005</td>\n",
              "      <td>571431</td>\n",
              "      <td>L</td>\n",
              "      <td>sln</td>\n",
              "      <td>1</td>\n",
              "      <td>3</td>\n",
              "      <td>452657</td>\n",
              "      <td>L</td>\n",
              "      <td>sln</td>\n",
              "      <td>0</td>\n",
              "      <td>201500001</td>\n",
              "      <td>35055</td>\n",
              "      <td>2015</td>\n",
              "      <td>4</td>\n",
              "      <td>5</td>\n",
              "      <td>184</td>\n",
              "      <td>0</td>\n",
              "      <td>44</td>\n",
              "      <td>clear</td>\n",
              "      <td>7</td>\n",
              "      <td>In from CF</td>\n",
              "      <td>Mike Winters</td>\n",
              "      <td>Mark Wegner</td>\n",
              "      <td>Wrigley Field</td>\n",
              "      <td>0</td>\n",
              "      <td>3</td>\n",
              "      <td>0</td>\n",
              "    </tr>\n",
              "  </tbody>\n",
              "</table>\n",
              "</div>"
            ],
            "text/plain": [
              "        ab_id  batter_id  ... opp_final_score event\n",
              "0  2015000001     572761  ...               3     0\n",
              "1  2015000002     518792  ...               3     1\n",
              "2  2015000003     407812  ...               3     1\n",
              "3  2015000004     425509  ...               3     0\n",
              "4  2015000005     571431  ...               3     0\n",
              "\n",
              "[5 rows x 27 columns]"
            ]
          },
          "metadata": {
            "tags": []
          },
          "execution_count": 40
        }
      ]
    },
    {
      "cell_type": "code",
      "metadata": {
        "id": "_mSJcgTfXrdb",
        "outputId": "5177a300-8a78-4cd6-98cc-991218332ba1",
        "colab": {
          "base_uri": "https://localhost:8080/",
          "height": 565
        }
      },
      "source": [
        "# Distribution of events by venue\n",
        "venue_props = atbats_and_games_df.groupby('venue_name')['event'].value_counts(normalize=True)\n",
        "venue_df = venue_props.to_frame().rename(columns={'event': 'event_prop'}).reset_index()\n",
        "venue_viz = venue_df.pivot('venue_name', 'event', 'event_prop').plot(kind='bar', figsize=(20,6))\n",
        "\n",
        "venue_viz.set_title('Distribution of Events by Venue', fontdict=font_dict)\n",
        "venue_viz.set_xlabel('Venue')\n",
        "venue_viz.set_ylabel('Event Proportion');"
      ],
      "execution_count": null,
      "outputs": [
        {
          "output_type": "display_data",
          "data": {
            "image/png": "[encoded data removed]",
            "text/plain": [
              "<Figure size 1440x432 with 1 Axes>"
            ]
          },
          "metadata": {
            "tags": []
          }
        }
      ]
    },
    {
      "cell_type": "markdown",
      "metadata": {
        "id": "Ns6pUMI1dDTh"
      },
      "source": [
        "Clearly we can see here that different venues result in different proportions of events. This makes sense as some venues are actually more hit or 'home-run friendly' when compared to others."
      ]
    },
    {
      "cell_type": "code",
      "metadata": {
        "id": "db8JvZo2daE5",
        "outputId": "918db860-ce9d-4645-c881-aaaa87964a7d",
        "colab": {
          "base_uri": "https://localhost:8080/",
          "height": 391
        }
      },
      "source": [
        "# Distribution of events by weather conditions\n",
        "atbats_and_games_df.groupby('condition')['event'].value_counts(normalize=True)"
      ],
      "execution_count": null,
      "outputs": [
        {
          "output_type": "execute_result",
          "data": {
            "text/plain": [
              "condition       event\n",
              " clear          0        0.659382\n",
              "                1        0.340618\n",
              " cloudy         0        0.659075\n",
              "                1        0.340925\n",
              " dome           0        0.675039\n",
              "                1        0.324961\n",
              " drizzle        0        0.644856\n",
              "                1        0.355144\n",
              " overcast       0        0.659438\n",
              "                1        0.340562\n",
              " partly cloudy  0        0.656924\n",
              "                1        0.343076\n",
              " rain           0        0.645503\n",
              "                1        0.354497\n",
              " roof closed    0        0.662540\n",
              "                1        0.337460\n",
              " snow           0        0.650000\n",
              "                1        0.350000\n",
              " sunny          0        0.660031\n",
              "                1        0.339969\n",
              "Name: event, dtype: float64"
            ]
          },
          "metadata": {
            "tags": []
          },
          "execution_count": 42
        }
      ]
    },
    {
      "cell_type": "markdown",
      "metadata": {
        "id": "qzOaGAALgjUh"
      },
      "source": [
        "Interestingly, negative events happen most when the stadium is closed (dome or roof closed). Positive events happen most when there is rain or drizzle."
      ]
    },
    {
      "cell_type": "code",
      "metadata": {
        "id": "gWIaBtCEg6U5",
        "outputId": "3dfbb508-db97-4d7c-8552-772d1bf0738a",
        "colab": {
          "base_uri": "https://localhost:8080/",
          "height": 409
        }
      },
      "source": [
        "# Distribution of events by wind speed\n",
        "winds = atbats_and_games_df.groupby('wind_speed')['event'].value_counts(normalize=True)\n",
        "wind_df = winds.to_frame().rename(columns={'event': 'event_prop'}).reset_index().sort_values('wind_speed')\n",
        "wind_viz = wind_df.pivot('wind_speed', 'event', 'event_prop').plot(kind='bar', figsize=(20,6))\n",
        "\n",
        "wind_viz.set_title('Distribution of Events by Wind Speed', fontdict=font_dict)\n",
        "wind_viz.set_xlabel('Wind Speed')\n",
        "wind_viz.set_ylabel('Event Proportion');"
      ],
      "execution_count": null,
      "outputs": [
        {
          "output_type": "display_data",
          "data": {
            "image/png": "[encoded data removed]",
            "text/plain": [
              "<Figure size 1440x432 with 1 Axes>"
            ]
          },
          "metadata": {
            "tags": []
          }
        }
      ]
    },
    {
      "cell_type": "code",
      "metadata": {
        "id": "5hPGcVjdiREr",
        "outputId": "6d1a2ab4-cdd6-49d5-f006-71c3cb171066",
        "colab": {
          "base_uri": "https://localhost:8080/",
          "height": 425
        }
      },
      "source": [
        "# Distribution of events by wind direction\n",
        "atbats_and_games_df.groupby('wind_direction')['event'].value_counts(normalize=True)"
      ],
      "execution_count": null,
      "outputs": [
        {
          "output_type": "execute_result",
          "data": {
            "text/plain": [
              "wind_direction  event\n",
              "Calm            0        0.667158\n",
              "                1        0.332842\n",
              "In from CF      0        0.654896\n",
              "                1        0.345104\n",
              "In from LF      0        0.654836\n",
              "                1        0.345164\n",
              "In from RF      0        0.654304\n",
              "                1        0.345696\n",
              "L to R          0        0.658908\n",
              "                1        0.341092\n",
              "None            0        0.665264\n",
              "                1        0.334736\n",
              "Out to CF       0        0.659809\n",
              "                1        0.340191\n",
              "Out to LF       0        0.658850\n",
              "                1        0.341150\n",
              "Out to RF       0        0.664897\n",
              "                1        0.335103\n",
              "R to L          0        0.654018\n",
              "                1        0.345982\n",
              "Varies          0        0.661845\n",
              "                1        0.338155\n",
              "Name: event, dtype: float64"
            ]
          },
          "metadata": {
            "tags": []
          },
          "execution_count": 44
        }
      ]
    },
    {
      "cell_type": "code",
      "metadata": {
        "id": "l0eBDfNwjyaC",
        "outputId": "ea956148-7eff-4c43-b3f3-5474ef7899c2",
        "colab": {
          "base_uri": "https://localhost:8080/",
          "height": 323
        }
      },
      "source": [
        "# Distribution of events by month\n",
        "atbats_and_games_df.groupby('month')['event'].value_counts(normalize=True)"
      ],
      "execution_count": null,
      "outputs": [
        {
          "output_type": "execute_result",
          "data": {
            "text/plain": [
              "month  event\n",
              "3      0        0.668096\n",
              "       1        0.331904\n",
              "4      0        0.661217\n",
              "       1        0.338783\n",
              "5      0        0.660958\n",
              "       1        0.339042\n",
              "6      0        0.658571\n",
              "       1        0.341429\n",
              "7      0        0.658471\n",
              "       1        0.341529\n",
              "8      0        0.658010\n",
              "       1        0.341990\n",
              "9      0        0.657797\n",
              "       1        0.342203\n",
              "10     0        0.673035\n",
              "       1        0.326965\n",
              "Name: event, dtype: float64"
            ]
          },
          "metadata": {
            "tags": []
          },
          "execution_count": 45
        }
      ]
    },
    {
      "cell_type": "code",
      "metadata": {
        "id": "yEDKPcP-GI5-",
        "outputId": "6f46076c-a9bc-42de-8153-56ce5ae3f31a",
        "colab": {
          "base_uri": "https://localhost:8080/",
          "height": 204
        }
      },
      "source": [
        "durations = atbats_and_games_df.groupby('game_duration')['event'].value_counts(normalize=True)\n",
        "durations_df = durations.to_frame().rename(columns={'event': 'event_prop'}).reset_index()\n",
        "durations = durations_df.pivot('game_duration', 'event', 'event_prop').reset_index()\n",
        "durations.head()"
      ],
      "execution_count": null,
      "outputs": [
        {
          "output_type": "execute_result",
          "data": {
            "text/html": [
              "<div>\n",
              "<style scoped>\n",
              "    .dataframe tbody tr th:only-of-type {\n",
              "        vertical-align: middle;\n",
              "    }\n",
              "\n",
              "    .dataframe tbody tr th {\n",
              "        vertical-align: top;\n",
              "    }\n",
              "\n",
              "    .dataframe thead th {\n",
              "        text-align: right;\n",
              "    }\n",
              "</style>\n",
              "<table border=\"1\" class=\"dataframe\">\n",
              "  <thead>\n",
              "    <tr style=\"text-align: right;\">\n",
              "      <th>event</th>\n",
              "      <th>game_duration</th>\n",
              "      <th>0</th>\n",
              "      <th>1</th>\n",
              "    </tr>\n",
              "  </thead>\n",
              "  <tbody>\n",
              "    <tr>\n",
              "      <th>0</th>\n",
              "      <td>75</td>\n",
              "      <td>0.692308</td>\n",
              "      <td>0.307692</td>\n",
              "    </tr>\n",
              "    <tr>\n",
              "      <th>1</th>\n",
              "      <td>100</td>\n",
              "      <td>0.666667</td>\n",
              "      <td>0.333333</td>\n",
              "    </tr>\n",
              "    <tr>\n",
              "      <th>2</th>\n",
              "      <td>101</td>\n",
              "      <td>0.577778</td>\n",
              "      <td>0.422222</td>\n",
              "    </tr>\n",
              "    <tr>\n",
              "      <th>3</th>\n",
              "      <td>104</td>\n",
              "      <td>0.648148</td>\n",
              "      <td>0.351852</td>\n",
              "    </tr>\n",
              "    <tr>\n",
              "      <th>4</th>\n",
              "      <td>107</td>\n",
              "      <td>0.653846</td>\n",
              "      <td>0.346154</td>\n",
              "    </tr>\n",
              "  </tbody>\n",
              "</table>\n",
              "</div>"
            ],
            "text/plain": [
              "event  game_duration         0         1\n",
              "0                 75  0.692308  0.307692\n",
              "1                100  0.666667  0.333333\n",
              "2                101  0.577778  0.422222\n",
              "3                104  0.648148  0.351852\n",
              "4                107  0.653846  0.346154"
            ]
          },
          "metadata": {
            "tags": []
          },
          "execution_count": 46
        }
      ]
    },
    {
      "cell_type": "code",
      "metadata": {
        "id": "0ORSuLJTkg4Q",
        "outputId": "bba3e7af-7994-4709-afc8-be50237f919b",
        "colab": {
          "base_uri": "https://localhost:8080/",
          "height": 297
        }
      },
      "source": [
        "durations = atbats_and_games_df.groupby('game_duration')['event'].value_counts(normalize=True)\n",
        "durations_df = durations.to_frame().rename(columns={'event': 'event_prop'}).reset_index()\n",
        "durations = durations_df.pivot('game_duration', 'event', 'event_prop')\n",
        "durations_viz = durations[1].reset_index().plot(kind='scatter', x='game_duration', y=1)\n",
        "\n",
        "durations_viz.set_title('Game Duration vs Positive Events', fontdict=font_dict)\n",
        "durations_viz.set_xlabel('Game Duration')\n",
        "durations_viz.set_ylabel('Proportion of Positive Events');"
      ],
      "execution_count": null,
      "outputs": [
        {
          "output_type": "display_data",
          "data": {
            "image/png": "[encoded data removed]",
            "text/plain": [
              "<Figure size 432x288 with 1 Axes>"
            ]
          },
          "metadata": {
            "tags": []
          }
        }
      ]
    },
    {
      "cell_type": "markdown",
      "metadata": {
        "id": "wU5cWeN3pOAM"
      },
      "source": [
        "The above plot is actually very interesting. We can see that for games lasting between ~125 and ~200 minutes, the longer games have higher proportions of positive events. However, once it goes past this ~200 minute mark (possibly overtime), there is a lot more variation although it can be argued that it has a downward trend."
      ]
    },
    {
      "cell_type": "markdown",
      "metadata": {
        "id": "haC3nehwQ3Ni"
      },
      "source": [
        "# Adding Features\n",
        "Goal: Predict wheter the batter has a \"positive at bat\""
      ]
    },
    {
      "cell_type": "code",
      "metadata": {
        "id": "1kKATPa9OQk4"
      },
      "source": [
        "# Event Mapping: We can define a positive at-bat as an event in which the batter either progresses to a base, \n",
        "# scores a home run, or gets out but allows a teammate to progress (sacrifice). \n",
        "# A negative at-bat is an event in which no progress is made."
      ],
      "execution_count": null,
      "outputs": []
    },
    {
      "cell_type": "code",
      "metadata": {
        "id": "_sT2HkJ0R_S8",
        "outputId": "3acc8394-fde1-4752-bef8-400ef0704064",
        "colab": {
          "base_uri": "https://localhost:8080/",
          "height": 224
        }
      },
      "source": [
        "# the pitches data contains details of the trajectory of the pitch\n",
        "pitches = atbats = pd.read_csv('/content/drive/Shared drives/CSE 158/data/pitches.csv')\n",
        "pitches.head()"
      ],
      "execution_count": null,
      "outputs": [
        {
          "output_type": "execute_result",
          "data": {
            "text/html": [
              "<div>\n",
              "<style scoped>\n",
              "    .dataframe tbody tr th:only-of-type {\n",
              "        vertical-align: middle;\n",
              "    }\n",
              "\n",
              "    .dataframe tbody tr th {\n",
              "        vertical-align: top;\n",
              "    }\n",
              "\n",
              "    .dataframe thead th {\n",
              "        text-align: right;\n",
              "    }\n",
              "</style>\n",
              "<table border=\"1\" class=\"dataframe\">\n",
              "  <thead>\n",
              "    <tr style=\"text-align: right;\">\n",
              "      <th></th>\n",
              "      <th>px</th>\n",
              "      <th>pz</th>\n",
              "      <th>start_speed</th>\n",
              "      <th>end_speed</th>\n",
              "      <th>spin_rate</th>\n",
              "      <th>spin_dir</th>\n",
              "      <th>break_angle</th>\n",
              "      <th>break_length</th>\n",
              "      <th>break_y</th>\n",
              "      <th>ax</th>\n",
              "      <th>ay</th>\n",
              "      <th>az</th>\n",
              "      <th>sz_bot</th>\n",
              "      <th>sz_top</th>\n",
              "      <th>type_confidence</th>\n",
              "      <th>vx0</th>\n",
              "      <th>vy0</th>\n",
              "      <th>vz0</th>\n",
              "      <th>x</th>\n",
              "      <th>x0</th>\n",
              "      <th>y</th>\n",
              "      <th>y0</th>\n",
              "      <th>z0</th>\n",
              "      <th>pfx_x</th>\n",
              "      <th>pfx_z</th>\n",
              "      <th>nasty</th>\n",
              "      <th>zone</th>\n",
              "      <th>code</th>\n",
              "      <th>type</th>\n",
              "      <th>pitch_type</th>\n",
              "      <th>event_num</th>\n",
              "      <th>b_score</th>\n",
              "      <th>ab_id</th>\n",
              "      <th>b_count</th>\n",
              "      <th>s_count</th>\n",
              "      <th>outs</th>\n",
              "      <th>pitch_num</th>\n",
              "      <th>on_1b</th>\n",
              "      <th>on_2b</th>\n",
              "      <th>on_3b</th>\n",
              "    </tr>\n",
              "  </thead>\n",
              "  <tbody>\n",
              "    <tr>\n",
              "      <th>0</th>\n",
              "      <td>0.416</td>\n",
              "      <td>2.963</td>\n",
              "      <td>92.9</td>\n",
              "      <td>84.1</td>\n",
              "      <td>2305.052</td>\n",
              "      <td>159.235</td>\n",
              "      <td>-25.0</td>\n",
              "      <td>3.2</td>\n",
              "      <td>23.7</td>\n",
              "      <td>7.665</td>\n",
              "      <td>34.685</td>\n",
              "      <td>-11.960</td>\n",
              "      <td>1.72</td>\n",
              "      <td>3.56</td>\n",
              "      <td>2.0</td>\n",
              "      <td>-6.409</td>\n",
              "      <td>-136.065</td>\n",
              "      <td>-3.995</td>\n",
              "      <td>101.140000</td>\n",
              "      <td>2.280</td>\n",
              "      <td>158.780000</td>\n",
              "      <td>50.0</td>\n",
              "      <td>5.302</td>\n",
              "      <td>4.16</td>\n",
              "      <td>10.93</td>\n",
              "      <td>55.0</td>\n",
              "      <td>3.0</td>\n",
              "      <td>C</td>\n",
              "      <td>S</td>\n",
              "      <td>FF</td>\n",
              "      <td>3</td>\n",
              "      <td>0.0</td>\n",
              "      <td>2.015000e+09</td>\n",
              "      <td>0.0</td>\n",
              "      <td>0.0</td>\n",
              "      <td>0.0</td>\n",
              "      <td>1.0</td>\n",
              "      <td>0.0</td>\n",
              "      <td>0.0</td>\n",
              "      <td>0.0</td>\n",
              "    </tr>\n",
              "    <tr>\n",
              "      <th>1</th>\n",
              "      <td>-0.191</td>\n",
              "      <td>2.347</td>\n",
              "      <td>92.8</td>\n",
              "      <td>84.1</td>\n",
              "      <td>2689.935</td>\n",
              "      <td>151.402</td>\n",
              "      <td>-40.7</td>\n",
              "      <td>3.4</td>\n",
              "      <td>23.7</td>\n",
              "      <td>12.043</td>\n",
              "      <td>34.225</td>\n",
              "      <td>-10.085</td>\n",
              "      <td>1.72</td>\n",
              "      <td>3.56</td>\n",
              "      <td>2.0</td>\n",
              "      <td>-8.411</td>\n",
              "      <td>-135.690</td>\n",
              "      <td>-5.980</td>\n",
              "      <td>124.280000</td>\n",
              "      <td>2.119</td>\n",
              "      <td>175.410000</td>\n",
              "      <td>50.0</td>\n",
              "      <td>5.307</td>\n",
              "      <td>6.57</td>\n",
              "      <td>12.00</td>\n",
              "      <td>31.0</td>\n",
              "      <td>5.0</td>\n",
              "      <td>S</td>\n",
              "      <td>S</td>\n",
              "      <td>FF</td>\n",
              "      <td>4</td>\n",
              "      <td>0.0</td>\n",
              "      <td>2.015000e+09</td>\n",
              "      <td>0.0</td>\n",
              "      <td>1.0</td>\n",
              "      <td>0.0</td>\n",
              "      <td>2.0</td>\n",
              "      <td>0.0</td>\n",
              "      <td>0.0</td>\n",
              "      <td>0.0</td>\n",
              "    </tr>\n",
              "    <tr>\n",
              "      <th>2</th>\n",
              "      <td>-0.518</td>\n",
              "      <td>3.284</td>\n",
              "      <td>94.1</td>\n",
              "      <td>85.2</td>\n",
              "      <td>2647.972</td>\n",
              "      <td>145.125</td>\n",
              "      <td>-43.7</td>\n",
              "      <td>3.7</td>\n",
              "      <td>23.7</td>\n",
              "      <td>14.368</td>\n",
              "      <td>35.276</td>\n",
              "      <td>-11.560</td>\n",
              "      <td>1.72</td>\n",
              "      <td>3.56</td>\n",
              "      <td>2.0</td>\n",
              "      <td>-9.802</td>\n",
              "      <td>-137.668</td>\n",
              "      <td>-3.337</td>\n",
              "      <td>136.740000</td>\n",
              "      <td>2.127</td>\n",
              "      <td>150.110000</td>\n",
              "      <td>50.0</td>\n",
              "      <td>5.313</td>\n",
              "      <td>7.61</td>\n",
              "      <td>10.88</td>\n",
              "      <td>49.0</td>\n",
              "      <td>1.0</td>\n",
              "      <td>F</td>\n",
              "      <td>S</td>\n",
              "      <td>FF</td>\n",
              "      <td>5</td>\n",
              "      <td>0.0</td>\n",
              "      <td>2.015000e+09</td>\n",
              "      <td>0.0</td>\n",
              "      <td>2.0</td>\n",
              "      <td>0.0</td>\n",
              "      <td>3.0</td>\n",
              "      <td>0.0</td>\n",
              "      <td>0.0</td>\n",
              "      <td>0.0</td>\n",
              "    </tr>\n",
              "    <tr>\n",
              "      <th>3</th>\n",
              "      <td>-0.641</td>\n",
              "      <td>1.221</td>\n",
              "      <td>91.0</td>\n",
              "      <td>84.0</td>\n",
              "      <td>1289.590</td>\n",
              "      <td>169.751</td>\n",
              "      <td>-1.3</td>\n",
              "      <td>5.0</td>\n",
              "      <td>23.8</td>\n",
              "      <td>2.104</td>\n",
              "      <td>28.354</td>\n",
              "      <td>-20.540</td>\n",
              "      <td>1.74</td>\n",
              "      <td>3.35</td>\n",
              "      <td>2.0</td>\n",
              "      <td>-8.071</td>\n",
              "      <td>-133.005</td>\n",
              "      <td>-6.567</td>\n",
              "      <td>109.685636</td>\n",
              "      <td>2.279</td>\n",
              "      <td>187.463482</td>\n",
              "      <td>50.0</td>\n",
              "      <td>5.210</td>\n",
              "      <td>1.17</td>\n",
              "      <td>6.45</td>\n",
              "      <td>41.0</td>\n",
              "      <td>13.0</td>\n",
              "      <td>B</td>\n",
              "      <td>B</td>\n",
              "      <td>FF</td>\n",
              "      <td>6</td>\n",
              "      <td>0.0</td>\n",
              "      <td>2.015000e+09</td>\n",
              "      <td>0.0</td>\n",
              "      <td>2.0</td>\n",
              "      <td>0.0</td>\n",
              "      <td>4.0</td>\n",
              "      <td>0.0</td>\n",
              "      <td>0.0</td>\n",
              "      <td>0.0</td>\n",
              "    </tr>\n",
              "    <tr>\n",
              "      <th>4</th>\n",
              "      <td>-1.821</td>\n",
              "      <td>2.083</td>\n",
              "      <td>75.4</td>\n",
              "      <td>69.6</td>\n",
              "      <td>1374.569</td>\n",
              "      <td>280.671</td>\n",
              "      <td>18.4</td>\n",
              "      <td>12.0</td>\n",
              "      <td>23.8</td>\n",
              "      <td>-10.280</td>\n",
              "      <td>21.774</td>\n",
              "      <td>-34.111</td>\n",
              "      <td>1.72</td>\n",
              "      <td>3.56</td>\n",
              "      <td>2.0</td>\n",
              "      <td>-6.309</td>\n",
              "      <td>-110.409</td>\n",
              "      <td>0.325</td>\n",
              "      <td>146.527525</td>\n",
              "      <td>2.179</td>\n",
              "      <td>177.242829</td>\n",
              "      <td>50.0</td>\n",
              "      <td>5.557</td>\n",
              "      <td>-8.43</td>\n",
              "      <td>-1.65</td>\n",
              "      <td>18.0</td>\n",
              "      <td>13.0</td>\n",
              "      <td>B</td>\n",
              "      <td>B</td>\n",
              "      <td>CU</td>\n",
              "      <td>7</td>\n",
              "      <td>0.0</td>\n",
              "      <td>2.015000e+09</td>\n",
              "      <td>1.0</td>\n",
              "      <td>2.0</td>\n",
              "      <td>0.0</td>\n",
              "      <td>5.0</td>\n",
              "      <td>0.0</td>\n",
              "      <td>0.0</td>\n",
              "      <td>0.0</td>\n",
              "    </tr>\n",
              "  </tbody>\n",
              "</table>\n",
              "</div>"
            ],
            "text/plain": [
              "      px     pz  start_speed  end_speed  ...  pitch_num  on_1b  on_2b  on_3b\n",
              "0  0.416  2.963         92.9       84.1  ...        1.0    0.0    0.0    0.0\n",
              "1 -0.191  2.347         92.8       84.1  ...        2.0    0.0    0.0    0.0\n",
              "2 -0.518  3.284         94.1       85.2  ...        3.0    0.0    0.0    0.0\n",
              "3 -0.641  1.221         91.0       84.0  ...        4.0    0.0    0.0    0.0\n",
              "4 -1.821  2.083         75.4       69.6  ...        5.0    0.0    0.0    0.0\n",
              "\n",
              "[5 rows x 40 columns]"
            ]
          },
          "metadata": {
            "tags": []
          },
          "execution_count": 49
        }
      ]
    },
    {
      "cell_type": "code",
      "metadata": {
        "id": "pnuyBpvTR_Xv"
      },
      "source": [
        "# some of the columns do not have descriptions on Kaggle so we are not sure what they represent\n",
        "keep = ['ab_id', 'px', 'pz', 'start_speed', 'end_speed', 'spin_rate', \n",
        "        'spin_dir', 'code', 'type', 'pitch_type', 'event_num', 'b_score', \n",
        "        'b_count', 's_count', 'outs', 'pitch_num', 'on_1b', 'on_2b', 'on_3b']\n",
        "pitches_df =  pitches[keep]"
      ],
      "execution_count": null,
      "outputs": []
    },
    {
      "cell_type": "code",
      "metadata": {
        "id": "rIEq0eC5R_bU",
        "outputId": "6e0291a7-7666-4b73-ae2a-211d1f567626",
        "colab": {
          "base_uri": "https://localhost:8080/",
          "height": 224
        }
      },
      "source": [
        "# # combine with at_bat_games and add the outcome of the pitch\n",
        "pitches_df = pd.merge(pitches_df, atbats_and_games_df[['ab_id', 'batter_id', 'event']], on='ab_id', how='outer')\n",
        "pitches_df.head()"
      ],
      "execution_count": null,
      "outputs": [
        {
          "output_type": "execute_result",
          "data": {
            "text/html": [
              "<div>\n",
              "<style scoped>\n",
              "    .dataframe tbody tr th:only-of-type {\n",
              "        vertical-align: middle;\n",
              "    }\n",
              "\n",
              "    .dataframe tbody tr th {\n",
              "        vertical-align: top;\n",
              "    }\n",
              "\n",
              "    .dataframe thead th {\n",
              "        text-align: right;\n",
              "    }\n",
              "</style>\n",
              "<table border=\"1\" class=\"dataframe\">\n",
              "  <thead>\n",
              "    <tr style=\"text-align: right;\">\n",
              "      <th></th>\n",
              "      <th>ab_id</th>\n",
              "      <th>px</th>\n",
              "      <th>pz</th>\n",
              "      <th>start_speed</th>\n",
              "      <th>end_speed</th>\n",
              "      <th>spin_rate</th>\n",
              "      <th>spin_dir</th>\n",
              "      <th>code</th>\n",
              "      <th>type</th>\n",
              "      <th>pitch_type</th>\n",
              "      <th>event_num</th>\n",
              "      <th>b_score</th>\n",
              "      <th>b_count</th>\n",
              "      <th>s_count</th>\n",
              "      <th>outs</th>\n",
              "      <th>pitch_num</th>\n",
              "      <th>on_1b</th>\n",
              "      <th>on_2b</th>\n",
              "      <th>on_3b</th>\n",
              "      <th>batter_id</th>\n",
              "      <th>event</th>\n",
              "    </tr>\n",
              "  </thead>\n",
              "  <tbody>\n",
              "    <tr>\n",
              "      <th>0</th>\n",
              "      <td>2.015000e+09</td>\n",
              "      <td>0.416</td>\n",
              "      <td>2.963</td>\n",
              "      <td>92.9</td>\n",
              "      <td>84.1</td>\n",
              "      <td>2305.052</td>\n",
              "      <td>159.235</td>\n",
              "      <td>C</td>\n",
              "      <td>S</td>\n",
              "      <td>FF</td>\n",
              "      <td>3.0</td>\n",
              "      <td>0.0</td>\n",
              "      <td>0.0</td>\n",
              "      <td>0.0</td>\n",
              "      <td>0.0</td>\n",
              "      <td>1.0</td>\n",
              "      <td>0.0</td>\n",
              "      <td>0.0</td>\n",
              "      <td>0.0</td>\n",
              "      <td>572761</td>\n",
              "      <td>0</td>\n",
              "    </tr>\n",
              "    <tr>\n",
              "      <th>1</th>\n",
              "      <td>2.015000e+09</td>\n",
              "      <td>-0.191</td>\n",
              "      <td>2.347</td>\n",
              "      <td>92.8</td>\n",
              "      <td>84.1</td>\n",
              "      <td>2689.935</td>\n",
              "      <td>151.402</td>\n",
              "      <td>S</td>\n",
              "      <td>S</td>\n",
              "      <td>FF</td>\n",
              "      <td>4.0</td>\n",
              "      <td>0.0</td>\n",
              "      <td>0.0</td>\n",
              "      <td>1.0</td>\n",
              "      <td>0.0</td>\n",
              "      <td>2.0</td>\n",
              "      <td>0.0</td>\n",
              "      <td>0.0</td>\n",
              "      <td>0.0</td>\n",
              "      <td>572761</td>\n",
              "      <td>0</td>\n",
              "    </tr>\n",
              "    <tr>\n",
              "      <th>2</th>\n",
              "      <td>2.015000e+09</td>\n",
              "      <td>-0.518</td>\n",
              "      <td>3.284</td>\n",
              "      <td>94.1</td>\n",
              "      <td>85.2</td>\n",
              "      <td>2647.972</td>\n",
              "      <td>145.125</td>\n",
              "      <td>F</td>\n",
              "      <td>S</td>\n",
              "      <td>FF</td>\n",
              "      <td>5.0</td>\n",
              "      <td>0.0</td>\n",
              "      <td>0.0</td>\n",
              "      <td>2.0</td>\n",
              "      <td>0.0</td>\n",
              "      <td>3.0</td>\n",
              "      <td>0.0</td>\n",
              "      <td>0.0</td>\n",
              "      <td>0.0</td>\n",
              "      <td>572761</td>\n",
              "      <td>0</td>\n",
              "    </tr>\n",
              "    <tr>\n",
              "      <th>3</th>\n",
              "      <td>2.015000e+09</td>\n",
              "      <td>-0.641</td>\n",
              "      <td>1.221</td>\n",
              "      <td>91.0</td>\n",
              "      <td>84.0</td>\n",
              "      <td>1289.590</td>\n",
              "      <td>169.751</td>\n",
              "      <td>B</td>\n",
              "      <td>B</td>\n",
              "      <td>FF</td>\n",
              "      <td>6.0</td>\n",
              "      <td>0.0</td>\n",
              "      <td>0.0</td>\n",
              "      <td>2.0</td>\n",
              "      <td>0.0</td>\n",
              "      <td>4.0</td>\n",
              "      <td>0.0</td>\n",
              "      <td>0.0</td>\n",
              "      <td>0.0</td>\n",
              "      <td>572761</td>\n",
              "      <td>0</td>\n",
              "    </tr>\n",
              "    <tr>\n",
              "      <th>4</th>\n",
              "      <td>2.015000e+09</td>\n",
              "      <td>-1.821</td>\n",
              "      <td>2.083</td>\n",
              "      <td>75.4</td>\n",
              "      <td>69.6</td>\n",
              "      <td>1374.569</td>\n",
              "      <td>280.671</td>\n",
              "      <td>B</td>\n",
              "      <td>B</td>\n",
              "      <td>CU</td>\n",
              "      <td>7.0</td>\n",
              "      <td>0.0</td>\n",
              "      <td>1.0</td>\n",
              "      <td>2.0</td>\n",
              "      <td>0.0</td>\n",
              "      <td>5.0</td>\n",
              "      <td>0.0</td>\n",
              "      <td>0.0</td>\n",
              "      <td>0.0</td>\n",
              "      <td>572761</td>\n",
              "      <td>0</td>\n",
              "    </tr>\n",
              "  </tbody>\n",
              "</table>\n",
              "</div>"
            ],
            "text/plain": [
              "          ab_id     px     pz  start_speed  ...  on_2b  on_3b  batter_id event\n",
              "0  2.015000e+09  0.416  2.963         92.9  ...    0.0    0.0     572761     0\n",
              "1  2.015000e+09 -0.191  2.347         92.8  ...    0.0    0.0     572761     0\n",
              "2  2.015000e+09 -0.518  3.284         94.1  ...    0.0    0.0     572761     0\n",
              "3  2.015000e+09 -0.641  1.221         91.0  ...    0.0    0.0     572761     0\n",
              "4  2.015000e+09 -1.821  2.083         75.4  ...    0.0    0.0     572761     0\n",
              "\n",
              "[5 rows x 21 columns]"
            ]
          },
          "metadata": {
            "tags": []
          },
          "execution_count": 49
        }
      ]
    },
    {
      "cell_type": "code",
      "metadata": {
        "id": "RJ9A2uB0R_RE",
        "outputId": "58bd63e8-2fb6-4e6f-9a8d-965c2e158179",
        "colab": {
          "base_uri": "https://localhost:8080/",
          "height": 34
        }
      },
      "source": [
        "atbats_raw = pd.read_csv('/content/drive/Shared drives/CSE 158/data/atbats.csv')\n",
        "atbats_raw = atbats_raw.rename(columns={'event':'event type'})\n",
        "atbats_raw['event type'].value_counts()['Strikeout']\n",
        "# need original data before mapping to find ratio of strikeouts"
      ],
      "execution_count": null,
      "outputs": [
        {
          "output_type": "execute_result",
          "data": {
            "text/plain": [
              "157128"
            ]
          },
          "metadata": {
            "tags": []
          },
          "execution_count": 50
        }
      ]
    },
    {
      "cell_type": "code",
      "metadata": {
        "id": "xWNgDU28R_OQ",
        "outputId": "8c831518-fb32-4ab8-d914-9a6c0b67b3ef",
        "colab": {
          "base_uri": "https://localhost:8080/",
          "height": 289
        }
      },
      "source": [
        "# add on base average, strike out percentage\n",
        "on_base_avg = pitches_df.groupby('batter_id').aggregate({'event': np.average})\n",
        "strikeouts = atbats_raw.groupby('batter_id')['event type'].value_counts().loc[:, 'Strikeout']\n",
        "strikeouts = strikeouts.rename(index='strikes')\n",
        "total_bats = atbats_raw.groupby('batter_id')['event type'].aggregate('count')\n",
        "total_bats = total_bats.rename(index='total')\n",
        "strikeout_percentage = pd.DataFrame([strikeouts, total_bats]).T\n",
        "strikeout_percentage['%'] = strikeout_percentage['strikes'] / strikeout_percentage['total']\n",
        "strikeout_percentage = strikeout_percentage['%']\n",
        "print(on_base_avg.head())\n",
        "print('\\n')\n",
        "print(strikeout_percentage.head())"
      ],
      "execution_count": null,
      "outputs": [
        {
          "output_type": "stream",
          "text": [
            "              event\n",
            "batter_id          \n",
            "112526     0.128773\n",
            "115629     0.000000\n",
            "116338     0.332056\n",
            "120074     0.419003\n",
            "121347     0.358982\n",
            "\n",
            "\n",
            "batter_id\n",
            "112526    0.503268\n",
            "115629    1.000000\n",
            "116338    0.184534\n",
            "120074    0.143548\n",
            "121347    0.244804\n",
            "Name: %, dtype: float64\n"
          ],
          "name": "stdout"
        }
      ]
    },
    {
      "cell_type": "code",
      "metadata": {
        "id": "D_Xn7gY1R_LQ",
        "outputId": "8525cf6a-7886-48fc-8c5f-110c917042a0",
        "colab": {
          "base_uri": "https://localhost:8080/",
          "height": 235
        }
      },
      "source": [
        "# combine into df\n",
        "pitches_agg = on_base_avg.join(pd.DataFrame(strikeout_percentage))\n",
        "pitches_agg.head()"
      ],
      "execution_count": null,
      "outputs": [
        {
          "output_type": "execute_result",
          "data": {
            "text/html": [
              "<div>\n",
              "<style scoped>\n",
              "    .dataframe tbody tr th:only-of-type {\n",
              "        vertical-align: middle;\n",
              "    }\n",
              "\n",
              "    .dataframe tbody tr th {\n",
              "        vertical-align: top;\n",
              "    }\n",
              "\n",
              "    .dataframe thead th {\n",
              "        text-align: right;\n",
              "    }\n",
              "</style>\n",
              "<table border=\"1\" class=\"dataframe\">\n",
              "  <thead>\n",
              "    <tr style=\"text-align: right;\">\n",
              "      <th></th>\n",
              "      <th>event</th>\n",
              "      <th>%</th>\n",
              "    </tr>\n",
              "    <tr>\n",
              "      <th>batter_id</th>\n",
              "      <th></th>\n",
              "      <th></th>\n",
              "    </tr>\n",
              "  </thead>\n",
              "  <tbody>\n",
              "    <tr>\n",
              "      <th>112526</th>\n",
              "      <td>0.128773</td>\n",
              "      <td>0.503268</td>\n",
              "    </tr>\n",
              "    <tr>\n",
              "      <th>115629</th>\n",
              "      <td>0.000000</td>\n",
              "      <td>1.000000</td>\n",
              "    </tr>\n",
              "    <tr>\n",
              "      <th>116338</th>\n",
              "      <td>0.332056</td>\n",
              "      <td>0.184534</td>\n",
              "    </tr>\n",
              "    <tr>\n",
              "      <th>120074</th>\n",
              "      <td>0.419003</td>\n",
              "      <td>0.143548</td>\n",
              "    </tr>\n",
              "    <tr>\n",
              "      <th>121347</th>\n",
              "      <td>0.358982</td>\n",
              "      <td>0.244804</td>\n",
              "    </tr>\n",
              "  </tbody>\n",
              "</table>\n",
              "</div>"
            ],
            "text/plain": [
              "              event         %\n",
              "batter_id                    \n",
              "112526     0.128773  0.503268\n",
              "115629     0.000000  1.000000\n",
              "116338     0.332056  0.184534\n",
              "120074     0.419003  0.143548\n",
              "121347     0.358982  0.244804"
            ]
          },
          "metadata": {
            "tags": []
          },
          "execution_count": 52
        }
      ]
    },
    {
      "cell_type": "code",
      "metadata": {
        "id": "XKG2LtDqSUZU"
      },
      "source": [
        "# the strikeout_percentages that are high are from batters with low total at bats, may want to disreguard for actual model\n",
        "# or set some kind of threshold"
      ],
      "execution_count": null,
      "outputs": []
    },
    {
      "cell_type": "code",
      "metadata": {
        "id": "4R8VPEGPSWez"
      },
      "source": [
        "# Add defensive index: Defensive Efficiency Ratio (DER)\n",
        "#  Naturally, a batter who meets an opponent team with a good defensive ability will have a hard time getting on base.\n",
        "# 1 - (hits - home runs) / (plate appearences - bases on walks - strikeouts - hits by pitches - home runs)\n",
        "# computes the rate in which a batter gets on base"
      ],
      "execution_count": null,
      "outputs": []
    },
    {
      "cell_type": "code",
      "metadata": {
        "id": "9_MZyTvISYUB"
      },
      "source": [
        "total_bats = atbats_raw.groupby('batter_id')['event type'].value_counts()"
      ],
      "execution_count": null,
      "outputs": []
    },
    {
      "cell_type": "code",
      "metadata": {
        "id": "jTnaCeQwSaQn"
      },
      "source": [
        "hits_ = ['Single', 'Double', 'Home Run', 'Sac Fly', 'Sac Bunt']\n",
        "home_runs_ = ['Home Run']\n",
        "walks_ = ['Walk']\n",
        "hits_by_pitch_ = ['Hit By Pitch']"
      ],
      "execution_count": null,
      "outputs": []
    },
    {
      "cell_type": "code",
      "metadata": {
        "id": "vrfI1jFNSe0D"
      },
      "source": [
        "hits = pd.DataFrame(atbats_raw.groupby('batter_id')['event type'].value_counts()\n",
        "                    .loc[:, hits_].sum(level=0)).reset_index().rename(columns={'event type':'hits'})\n",
        "home_runs = pd.DataFrame(atbats_raw.groupby('batter_id')['event type'].value_counts()\n",
        "                         .loc[:, home_runs_].sum(level=0)).reset_index().rename(columns={'event type':'home_runs'})\n",
        "walks = pd.DataFrame(atbats_raw.groupby('batter_id')['event type'].value_counts()\n",
        "                     .loc[:, walks_].sum(level=0)).reset_index().rename(columns={'event type':'walks'})\n",
        "hits_by_pitch = pd.DataFrame(atbats_raw.groupby('batter_id')['event type'].value_counts()\n",
        "                             .loc[:, hits_by_pitch_].sum(level=0)).reset_index().rename(columns={'event type':'hits_by_pitch'})\n",
        "plate_appear = pd.DataFrame(atbats_raw['batter_id'].value_counts()).reset_index().rename(columns={'batter_id': 'plate_appear', 'index':'batter_id'})"
      ],
      "execution_count": null,
      "outputs": []
    },
    {
      "cell_type": "code",
      "metadata": {
        "id": "zK0QT63eSfQP",
        "outputId": "4bf2f145-0ed9-487d-ee71-de49e43228cf",
        "colab": {
          "base_uri": "https://localhost:8080/",
          "height": 204
        }
      },
      "source": [
        "data_frames = [plate_appear, hits, home_runs, walks, hits_by_pitch]\n",
        "DER = hits.merge(home_runs).merge(walks).merge(hits_by_pitch).merge(plate_appear)\n",
        "DER.head()"
      ],
      "execution_count": null,
      "outputs": [
        {
          "output_type": "execute_result",
          "data": {
            "text/html": [
              "<div>\n",
              "<style scoped>\n",
              "    .dataframe tbody tr th:only-of-type {\n",
              "        vertical-align: middle;\n",
              "    }\n",
              "\n",
              "    .dataframe tbody tr th {\n",
              "        vertical-align: top;\n",
              "    }\n",
              "\n",
              "    .dataframe thead th {\n",
              "        text-align: right;\n",
              "    }\n",
              "</style>\n",
              "<table border=\"1\" class=\"dataframe\">\n",
              "  <thead>\n",
              "    <tr style=\"text-align: right;\">\n",
              "      <th></th>\n",
              "      <th>batter_id</th>\n",
              "      <th>hits</th>\n",
              "      <th>home_runs</th>\n",
              "      <th>walks</th>\n",
              "      <th>hits_by_pitch</th>\n",
              "      <th>plate_appear</th>\n",
              "    </tr>\n",
              "  </thead>\n",
              "  <tbody>\n",
              "    <tr>\n",
              "      <th>0</th>\n",
              "      <td>112526</td>\n",
              "      <td>23</td>\n",
              "      <td>1</td>\n",
              "      <td>1</td>\n",
              "      <td>1</td>\n",
              "      <td>153</td>\n",
              "    </tr>\n",
              "    <tr>\n",
              "      <th>1</th>\n",
              "      <td>116338</td>\n",
              "      <td>130</td>\n",
              "      <td>22</td>\n",
              "      <td>34</td>\n",
              "      <td>6</td>\n",
              "      <td>569</td>\n",
              "    </tr>\n",
              "    <tr>\n",
              "      <th>2</th>\n",
              "      <td>120074</td>\n",
              "      <td>328</td>\n",
              "      <td>75</td>\n",
              "      <td>126</td>\n",
              "      <td>2</td>\n",
              "      <td>1240</td>\n",
              "    </tr>\n",
              "    <tr>\n",
              "      <th>3</th>\n",
              "      <td>121347</td>\n",
              "      <td>184</td>\n",
              "      <td>42</td>\n",
              "      <td>93</td>\n",
              "      <td>7</td>\n",
              "      <td>866</td>\n",
              "    </tr>\n",
              "    <tr>\n",
              "      <th>4</th>\n",
              "      <td>133380</td>\n",
              "      <td>121</td>\n",
              "      <td>17</td>\n",
              "      <td>28</td>\n",
              "      <td>5</td>\n",
              "      <td>517</td>\n",
              "    </tr>\n",
              "  </tbody>\n",
              "</table>\n",
              "</div>"
            ],
            "text/plain": [
              "   batter_id  hits  home_runs  walks  hits_by_pitch  plate_appear\n",
              "0     112526    23          1      1              1           153\n",
              "1     116338   130         22     34              6           569\n",
              "2     120074   328         75    126              2          1240\n",
              "3     121347   184         42     93              7           866\n",
              "4     133380   121         17     28              5           517"
            ]
          },
          "metadata": {
            "tags": []
          },
          "execution_count": 58
        }
      ]
    },
    {
      "cell_type": "code",
      "metadata": {
        "id": "7DoO8UgaShHl"
      },
      "source": [
        "# 1 - (hits - home runs) / (plate appearances - bases on walks - strikeouts - hits by pitches - home runs)\n",
        "def DER_transform(row, strikeouts_ser=strikeouts):\n",
        "    SO = strikeouts_ser.loc[row.batter_id]\n",
        "    der = (row.hits - row.home_runs) / (row.plate_appear - row.hits_by_pitch - SO - row.hits_by_pitch - row.home_runs)\n",
        "    return 1 - der"
      ],
      "execution_count": null,
      "outputs": []
    },
    {
      "cell_type": "code",
      "metadata": {
        "id": "KcuouU1ESjRW",
        "outputId": "5950e11e-5ba6-486f-de16-1771999c8799",
        "colab": {
          "base_uri": "https://localhost:8080/",
          "height": 235
        }
      },
      "source": [
        "#DER_df = DER.set_index('batter_id')\n",
        "DER_df = DER.apply(lambda x: DER_transform(x), axis=1)\n",
        "DER_df = pd.DataFrame(DER_df).set_index(DER['batter_id']).rename(columns={0:'DER'})\n",
        "DER_df.head()"
      ],
      "execution_count": null,
      "outputs": [
        {
          "output_type": "execute_result",
          "data": {
            "text/html": [
              "<div>\n",
              "<style scoped>\n",
              "    .dataframe tbody tr th:only-of-type {\n",
              "        vertical-align: middle;\n",
              "    }\n",
              "\n",
              "    .dataframe tbody tr th {\n",
              "        vertical-align: top;\n",
              "    }\n",
              "\n",
              "    .dataframe thead th {\n",
              "        text-align: right;\n",
              "    }\n",
              "</style>\n",
              "<table border=\"1\" class=\"dataframe\">\n",
              "  <thead>\n",
              "    <tr style=\"text-align: right;\">\n",
              "      <th></th>\n",
              "      <th>DER</th>\n",
              "    </tr>\n",
              "    <tr>\n",
              "      <th>batter_id</th>\n",
              "      <th></th>\n",
              "    </tr>\n",
              "  </thead>\n",
              "  <tbody>\n",
              "    <tr>\n",
              "      <th>112526</th>\n",
              "      <td>0.698630</td>\n",
              "    </tr>\n",
              "    <tr>\n",
              "      <th>116338</th>\n",
              "      <td>0.748837</td>\n",
              "    </tr>\n",
              "    <tr>\n",
              "      <th>120074</th>\n",
              "      <td>0.742625</td>\n",
              "    </tr>\n",
              "    <tr>\n",
              "      <th>121347</th>\n",
              "      <td>0.762542</td>\n",
              "    </tr>\n",
              "    <tr>\n",
              "      <th>133380</th>\n",
              "      <td>0.753555</td>\n",
              "    </tr>\n",
              "  </tbody>\n",
              "</table>\n",
              "</div>"
            ],
            "text/plain": [
              "                DER\n",
              "batter_id          \n",
              "112526     0.698630\n",
              "116338     0.748837\n",
              "120074     0.742625\n",
              "121347     0.762542\n",
              "133380     0.753555"
            ]
          },
          "metadata": {
            "tags": []
          },
          "execution_count": 60
        }
      ]
    },
    {
      "cell_type": "code",
      "metadata": {
        "id": "C7KvJlRLSlPN",
        "outputId": "8d4b7495-0fa7-412d-f796-ab9c9836e90d",
        "colab": {
          "base_uri": "https://localhost:8080/",
          "height": 235
        }
      },
      "source": [
        "# combine with pitches_agg\n",
        "pitches_der_df = DER_df.join(pitches_agg)\n",
        "pitches_der_df.head()"
      ],
      "execution_count": null,
      "outputs": [
        {
          "output_type": "execute_result",
          "data": {
            "text/html": [
              "<div>\n",
              "<style scoped>\n",
              "    .dataframe tbody tr th:only-of-type {\n",
              "        vertical-align: middle;\n",
              "    }\n",
              "\n",
              "    .dataframe tbody tr th {\n",
              "        vertical-align: top;\n",
              "    }\n",
              "\n",
              "    .dataframe thead th {\n",
              "        text-align: right;\n",
              "    }\n",
              "</style>\n",
              "<table border=\"1\" class=\"dataframe\">\n",
              "  <thead>\n",
              "    <tr style=\"text-align: right;\">\n",
              "      <th></th>\n",
              "      <th>DER</th>\n",
              "      <th>event</th>\n",
              "      <th>%</th>\n",
              "    </tr>\n",
              "    <tr>\n",
              "      <th>batter_id</th>\n",
              "      <th></th>\n",
              "      <th></th>\n",
              "      <th></th>\n",
              "    </tr>\n",
              "  </thead>\n",
              "  <tbody>\n",
              "    <tr>\n",
              "      <th>112526</th>\n",
              "      <td>0.698630</td>\n",
              "      <td>0.128773</td>\n",
              "      <td>0.503268</td>\n",
              "    </tr>\n",
              "    <tr>\n",
              "      <th>116338</th>\n",
              "      <td>0.748837</td>\n",
              "      <td>0.332056</td>\n",
              "      <td>0.184534</td>\n",
              "    </tr>\n",
              "    <tr>\n",
              "      <th>120074</th>\n",
              "      <td>0.742625</td>\n",
              "      <td>0.419003</td>\n",
              "      <td>0.143548</td>\n",
              "    </tr>\n",
              "    <tr>\n",
              "      <th>121347</th>\n",
              "      <td>0.762542</td>\n",
              "      <td>0.358982</td>\n",
              "      <td>0.244804</td>\n",
              "    </tr>\n",
              "    <tr>\n",
              "      <th>133380</th>\n",
              "      <td>0.753555</td>\n",
              "      <td>0.318457</td>\n",
              "      <td>0.131528</td>\n",
              "    </tr>\n",
              "  </tbody>\n",
              "</table>\n",
              "</div>"
            ],
            "text/plain": [
              "                DER     event         %\n",
              "batter_id                              \n",
              "112526     0.698630  0.128773  0.503268\n",
              "116338     0.748837  0.332056  0.184534\n",
              "120074     0.742625  0.419003  0.143548\n",
              "121347     0.762542  0.358982  0.244804\n",
              "133380     0.753555  0.318457  0.131528"
            ]
          },
          "metadata": {
            "tags": []
          },
          "execution_count": 61
        }
      ]
    },
    {
      "cell_type": "code",
      "metadata": {
        "id": "Ew5XLI5tSnLv",
        "outputId": "e7b6590e-1c0e-4ea0-95b2-4a2940a81621",
        "colab": {
          "base_uri": "https://localhost:8080/",
          "height": 136
        }
      },
      "source": [
        "atbats_games_pitches = pd.merge(atbats_and_games_df, pitches_der_df, on='batter_id')\n",
        "atbats_games_pitches.columns"
      ],
      "execution_count": null,
      "outputs": [
        {
          "output_type": "execute_result",
          "data": {
            "text/plain": [
              "Index(['ab_id', 'batter_id', 'batter_position', 'team', 'inning', 'post_outs',\n",
              "       'pitcher_id', 'pitcher_position', 'opponent', 'opp_score', 'g_id',\n",
              "       'attendance', 'year', 'month', 'day', 'game_duration', 'delay',\n",
              "       'temperature', 'condition', 'wind_speed', 'wind_direction', 'umpire_HP',\n",
              "       'umpire_1B', 'venue_name', 'team_final_score', 'opp_final_score',\n",
              "       'event_x', 'DER', 'event_y', '%'],\n",
              "      dtype='object')"
            ]
          },
          "metadata": {
            "tags": []
          },
          "execution_count": 62
        }
      ]
    },
    {
      "cell_type": "code",
      "metadata": {
        "id": "3AJw0_IeSpTf",
        "outputId": "c748ac9b-c95f-4c16-b8bb-415e8be6489e",
        "colab": {
          "base_uri": "https://localhost:8080/",
          "height": 309
        }
      },
      "source": [
        "atbats_games_pitches = atbats_games_pitches.rename(columns={'event_x': 'event', 'event_y': 'avg_event', '%': 'strikeout_%'})\n",
        "atbats_games_pitches.head()"
      ],
      "execution_count": null,
      "outputs": [
        {
          "output_type": "execute_result",
          "data": {
            "text/html": [
              "<div>\n",
              "<style scoped>\n",
              "    .dataframe tbody tr th:only-of-type {\n",
              "        vertical-align: middle;\n",
              "    }\n",
              "\n",
              "    .dataframe tbody tr th {\n",
              "        vertical-align: top;\n",
              "    }\n",
              "\n",
              "    .dataframe thead th {\n",
              "        text-align: right;\n",
              "    }\n",
              "</style>\n",
              "<table border=\"1\" class=\"dataframe\">\n",
              "  <thead>\n",
              "    <tr style=\"text-align: right;\">\n",
              "      <th></th>\n",
              "      <th>ab_id</th>\n",
              "      <th>batter_id</th>\n",
              "      <th>batter_position</th>\n",
              "      <th>team</th>\n",
              "      <th>inning</th>\n",
              "      <th>post_outs</th>\n",
              "      <th>pitcher_id</th>\n",
              "      <th>pitcher_position</th>\n",
              "      <th>opponent</th>\n",
              "      <th>opp_score</th>\n",
              "      <th>g_id</th>\n",
              "      <th>attendance</th>\n",
              "      <th>year</th>\n",
              "      <th>month</th>\n",
              "      <th>day</th>\n",
              "      <th>game_duration</th>\n",
              "      <th>delay</th>\n",
              "      <th>temperature</th>\n",
              "      <th>condition</th>\n",
              "      <th>wind_speed</th>\n",
              "      <th>wind_direction</th>\n",
              "      <th>umpire_HP</th>\n",
              "      <th>umpire_1B</th>\n",
              "      <th>venue_name</th>\n",
              "      <th>team_final_score</th>\n",
              "      <th>opp_final_score</th>\n",
              "      <th>event</th>\n",
              "      <th>DER</th>\n",
              "      <th>av_event</th>\n",
              "      <th>strikeout_%</th>\n",
              "    </tr>\n",
              "  </thead>\n",
              "  <tbody>\n",
              "    <tr>\n",
              "      <th>0</th>\n",
              "      <td>2015000001</td>\n",
              "      <td>572761</td>\n",
              "      <td>L</td>\n",
              "      <td>sln</td>\n",
              "      <td>1</td>\n",
              "      <td>1</td>\n",
              "      <td>452657</td>\n",
              "      <td>L</td>\n",
              "      <td>sln</td>\n",
              "      <td>0</td>\n",
              "      <td>201500001</td>\n",
              "      <td>35055</td>\n",
              "      <td>2015</td>\n",
              "      <td>4</td>\n",
              "      <td>5</td>\n",
              "      <td>184</td>\n",
              "      <td>0</td>\n",
              "      <td>44</td>\n",
              "      <td>clear</td>\n",
              "      <td>7</td>\n",
              "      <td>In from CF</td>\n",
              "      <td>Mike Winters</td>\n",
              "      <td>Mark Wegner</td>\n",
              "      <td>Wrigley Field</td>\n",
              "      <td>0</td>\n",
              "      <td>3</td>\n",
              "      <td>0</td>\n",
              "      <td>0.75341</td>\n",
              "      <td>0.399246</td>\n",
              "      <td>0.213496</td>\n",
              "    </tr>\n",
              "    <tr>\n",
              "      <th>1</th>\n",
              "      <td>2015000014</td>\n",
              "      <td>572761</td>\n",
              "      <td>L</td>\n",
              "      <td>sln</td>\n",
              "      <td>2</td>\n",
              "      <td>2</td>\n",
              "      <td>452657</td>\n",
              "      <td>L</td>\n",
              "      <td>sln</td>\n",
              "      <td>0</td>\n",
              "      <td>201500001</td>\n",
              "      <td>35055</td>\n",
              "      <td>2015</td>\n",
              "      <td>4</td>\n",
              "      <td>5</td>\n",
              "      <td>184</td>\n",
              "      <td>0</td>\n",
              "      <td>44</td>\n",
              "      <td>clear</td>\n",
              "      <td>7</td>\n",
              "      <td>In from CF</td>\n",
              "      <td>Mike Winters</td>\n",
              "      <td>Mark Wegner</td>\n",
              "      <td>Wrigley Field</td>\n",
              "      <td>0</td>\n",
              "      <td>3</td>\n",
              "      <td>1</td>\n",
              "      <td>0.75341</td>\n",
              "      <td>0.399246</td>\n",
              "      <td>0.213496</td>\n",
              "    </tr>\n",
              "    <tr>\n",
              "      <th>2</th>\n",
              "      <td>2015000035</td>\n",
              "      <td>572761</td>\n",
              "      <td>L</td>\n",
              "      <td>sln</td>\n",
              "      <td>5</td>\n",
              "      <td>0</td>\n",
              "      <td>452657</td>\n",
              "      <td>L</td>\n",
              "      <td>sln</td>\n",
              "      <td>0</td>\n",
              "      <td>201500001</td>\n",
              "      <td>35055</td>\n",
              "      <td>2015</td>\n",
              "      <td>4</td>\n",
              "      <td>5</td>\n",
              "      <td>184</td>\n",
              "      <td>0</td>\n",
              "      <td>44</td>\n",
              "      <td>clear</td>\n",
              "      <td>7</td>\n",
              "      <td>In from CF</td>\n",
              "      <td>Mike Winters</td>\n",
              "      <td>Mark Wegner</td>\n",
              "      <td>Wrigley Field</td>\n",
              "      <td>0</td>\n",
              "      <td>3</td>\n",
              "      <td>1</td>\n",
              "      <td>0.75341</td>\n",
              "      <td>0.399246</td>\n",
              "      <td>0.213496</td>\n",
              "    </tr>\n",
              "    <tr>\n",
              "      <th>3</th>\n",
              "      <td>2015000048</td>\n",
              "      <td>572761</td>\n",
              "      <td>L</td>\n",
              "      <td>sln</td>\n",
              "      <td>6</td>\n",
              "      <td>3</td>\n",
              "      <td>435400</td>\n",
              "      <td>R</td>\n",
              "      <td>sln</td>\n",
              "      <td>0</td>\n",
              "      <td>201500001</td>\n",
              "      <td>35055</td>\n",
              "      <td>2015</td>\n",
              "      <td>4</td>\n",
              "      <td>5</td>\n",
              "      <td>184</td>\n",
              "      <td>0</td>\n",
              "      <td>44</td>\n",
              "      <td>clear</td>\n",
              "      <td>7</td>\n",
              "      <td>In from CF</td>\n",
              "      <td>Mike Winters</td>\n",
              "      <td>Mark Wegner</td>\n",
              "      <td>Wrigley Field</td>\n",
              "      <td>0</td>\n",
              "      <td>3</td>\n",
              "      <td>0</td>\n",
              "      <td>0.75341</td>\n",
              "      <td>0.399246</td>\n",
              "      <td>0.213496</td>\n",
              "    </tr>\n",
              "    <tr>\n",
              "      <th>4</th>\n",
              "      <td>2015000069</td>\n",
              "      <td>572761</td>\n",
              "      <td>L</td>\n",
              "      <td>sln</td>\n",
              "      <td>9</td>\n",
              "      <td>1</td>\n",
              "      <td>444468</td>\n",
              "      <td>R</td>\n",
              "      <td>sln</td>\n",
              "      <td>0</td>\n",
              "      <td>201500001</td>\n",
              "      <td>35055</td>\n",
              "      <td>2015</td>\n",
              "      <td>4</td>\n",
              "      <td>5</td>\n",
              "      <td>184</td>\n",
              "      <td>0</td>\n",
              "      <td>44</td>\n",
              "      <td>clear</td>\n",
              "      <td>7</td>\n",
              "      <td>In from CF</td>\n",
              "      <td>Mike Winters</td>\n",
              "      <td>Mark Wegner</td>\n",
              "      <td>Wrigley Field</td>\n",
              "      <td>0</td>\n",
              "      <td>3</td>\n",
              "      <td>0</td>\n",
              "      <td>0.75341</td>\n",
              "      <td>0.399246</td>\n",
              "      <td>0.213496</td>\n",
              "    </tr>\n",
              "  </tbody>\n",
              "</table>\n",
              "</div>"
            ],
            "text/plain": [
              "        ab_id  batter_id batter_position  ...      DER  av_event  strikeout_%\n",
              "0  2015000001     572761               L  ...  0.75341  0.399246     0.213496\n",
              "1  2015000014     572761               L  ...  0.75341  0.399246     0.213496\n",
              "2  2015000035     572761               L  ...  0.75341  0.399246     0.213496\n",
              "3  2015000048     572761               L  ...  0.75341  0.399246     0.213496\n",
              "4  2015000069     572761               L  ...  0.75341  0.399246     0.213496\n",
              "\n",
              "[5 rows x 30 columns]"
            ]
          },
          "metadata": {
            "tags": []
          },
          "execution_count": 71
        }
      ]
    },
    {
      "cell_type": "code",
      "metadata": {
        "id": "6CbbA12VCd3a"
      },
      "source": [
        "# This was already run and uploaded to the drive so we don't need\n",
        "# to run all the above code anymore\n",
        "#atbats_games_pitches.to_csv('final_bats.csv', index=False)"
      ],
      "execution_count": null,
      "outputs": []
    },
    {
      "cell_type": "markdown",
      "metadata": {
        "id": "c8SiXjHSCWsf"
      },
      "source": [
        "## Building our model"
      ]
    },
    {
      "cell_type": "code",
      "metadata": {
        "id": "E4gBbvIKHWqV"
      },
      "source": [
        "from sklearn.model_selection import train_test_split\n",
        "from sklearn.pipeline import Pipeline\n",
        "from sklearn.compose import ColumnTransformer\n",
        "from sklearn.preprocessing import FunctionTransformer\n",
        "from sklearn.preprocessing import OneHotEncoder\n",
        "from sklearn.linear_model import LogisticRegression\n",
        "from sklearn.metrics import confusion_matrix\n",
        "from sklearn.metrics import f1_score\n",
        "from sklearn.metrics import precision_score\n",
        "from sklearn.metrics import recall_score"
      ],
      "execution_count": null,
      "outputs": []
    },
    {
      "cell_type": "code",
      "metadata": {
        "id": "bnwHmU2uF7ya"
      },
      "source": [
        "atbats_games_pitches = pd.read_csv('/content/drive/Shared drives/CSE 158/data/final_bats.csv')\n",
        "\n",
        "# First, let's begin by building a training, test, and validation set\n",
        "# We will assign 60% to our training, 20% to test, and 20% to validation set\n",
        "X = atbats_games_pitches.drop(['event', 'ab_id', 'umpire_1B','delay'], axis=1)\n",
        "y = atbats_games_pitches['event']\n",
        "\n",
        "# Included a specific random state to work with consistent splits\n",
        "X_train, X_test, y_train, y_test = train_test_split(X, y, test_size=0.20, random_state=42)\n",
        "X_train, X_val, y_train, y_val = train_test_split(X_train, y_train, test_size=1/4, random_state=42)"
      ],
      "execution_count": null,
      "outputs": []
    },
    {
      "cell_type": "code",
      "metadata": {
        "id": "3z2QI7PJCBQ3"
      },
      "source": [
        "# We have a lot of categorical features so we will need to one-hot encode them\n",
        "cat = ['batter_id', 'batter_position', 'team', 'inning', 'pitcher_id',\n",
        "       'pitcher_position', 'year', 'month', 'day', 'condition', \n",
        "       'wind_direction', 'venue_name', 'umpire_HP', 'g_id', 'opponent']"
      ],
      "execution_count": null,
      "outputs": []
    },
    {
      "cell_type": "code",
      "metadata": {
        "id": "xadw8K_MFzN7",
        "outputId": "c605562f-efab-422f-f704-058351bdc168",
        "colab": {
          "base_uri": "https://localhost:8080/",
          "height": 88
        }
      },
      "source": [
        "# Lets build a quick logistic regression pipeline\n",
        "ct = ColumnTransformer(transformers=[\n",
        "        ('one-hot', OneHotEncoder(handle_unknown ='ignore'), cat)\n",
        "    ], remainder='passthrough')\n",
        "\n",
        "# The regressor was mainly predicting negative events, so we will be\n",
        "# balancing it\n",
        "bat_clf = Pipeline([('ct', ct),\n",
        "                    ('lr', LogisticRegression(C=.0001))])\n",
        "                     #('lr', LogisticRegression(C=1000, class_weight='balanced'))])\n",
        "\n",
        "bat_clf.fit(X_train, y_train)\n",
        "\n",
        "# Training accuracy\n",
        "preds = bat_clf.predict(X_train)\n",
        "np.mean(preds == y_train)"
      ],
      "execution_count": null,
      "outputs": [
        {
          "output_type": "stream",
          "text": [
            "/usr/local/lib/python3.6/dist-packages/sklearn/linear_model/logistic.py:432: FutureWarning: Default solver will be changed to 'lbfgs' in 0.22. Specify a solver to silence this warning.\n",
            "  FutureWarning)\n"
          ],
          "name": "stderr"
        },
        {
          "output_type": "execute_result",
          "data": {
            "text/plain": [
              "0.7591975503762991"
            ]
          },
          "metadata": {
            "tags": []
          },
          "execution_count": 49
        }
      ]
    },
    {
      "cell_type": "code",
      "metadata": {
        "id": "J6ET5nF0K0WB",
        "outputId": "c5c3a89f-cb09-47ce-fea8-87d562473828",
        "colab": {
          "base_uri": "https://localhost:8080/",
          "height": 34
        }
      },
      "source": [
        "# Validation accuracy\n",
        "# Max of 75.8% when not including umpire_1B, month, but only 13% predictions of 1\n",
        "# Max of 75.4% when not including umpire_1B but 20% predictions of 1\n",
        "# Max of 75.6% when not including umpire_1B, delay but 20% predictions of 1\n",
        "# Max of 76.2% when not including umpire_1B, delay, strikeout_% but 15% predictions of 1\n",
        "preds_valid = bat_clf.predict(X_val)\n",
        "np.mean(preds_valid == y_val)"
      ],
      "execution_count": null,
      "outputs": [
        {
          "output_type": "execute_result",
          "data": {
            "text/plain": [
              "0.7599389043317119"
            ]
          },
          "metadata": {
            "tags": []
          },
          "execution_count": 50
        }
      ]
    },
    {
      "cell_type": "code",
      "metadata": {
        "id": "FTJZWfS7cYOx",
        "outputId": "606656f0-a762-46bb-ee02-cf6f667f9bd3",
        "colab": {
          "base_uri": "https://localhost:8080/",
          "height": 34
        }
      },
      "source": [
        "preds_valid.mean()"
      ],
      "execution_count": null,
      "outputs": [
        {
          "output_type": "execute_result",
          "data": {
            "text/plain": [
              "0.18291782487838776"
            ]
          },
          "metadata": {
            "tags": []
          },
          "execution_count": 51
        }
      ]
    },
    {
      "cell_type": "code",
      "metadata": {
        "id": "jZt5H3P5cgNQ",
        "outputId": "94b628e4-2769-48f5-9ba9-38f234ca6292",
        "colab": {
          "base_uri": "https://localhost:8080/",
          "height": 34
        }
      },
      "source": [
        "y_val.mean()"
      ],
      "execution_count": null,
      "outputs": [
        {
          "output_type": "execute_result",
          "data": {
            "text/plain": [
              "0.3446693305536252"
            ]
          },
          "metadata": {
            "tags": []
          },
          "execution_count": 52
        }
      ]
    },
    {
      "cell_type": "code",
      "metadata": {
        "id": "mwOULEupP1af",
        "outputId": "5f96bdd4-0b23-487d-fc0d-0cce2c04fc97",
        "colab": {
          "base_uri": "https://localhost:8080/",
          "height": 34
        }
      },
      "source": [
        "f1_score(y_val, preds_valid)"
      ],
      "execution_count": null,
      "outputs": [
        {
          "output_type": "execute_result",
          "data": {
            "text/plain": [
              "0.5449830550334097"
            ]
          },
          "metadata": {
            "tags": []
          },
          "execution_count": 53
        }
      ]
    },
    {
      "cell_type": "code",
      "metadata": {
        "id": "3A003kDEQZOy",
        "outputId": "de9211c9-bce4-45f3-81d7-ac34232187e8",
        "colab": {
          "base_uri": "https://localhost:8080/",
          "height": 34
        }
      },
      "source": [
        "precision_score(y_val, preds_valid)"
      ],
      "execution_count": null,
      "outputs": [
        {
          "output_type": "execute_result",
          "data": {
            "text/plain": [
              "0.7859432506232934"
            ]
          },
          "metadata": {
            "tags": []
          },
          "execution_count": 54
        }
      ]
    },
    {
      "cell_type": "code",
      "metadata": {
        "id": "kF3RX6pzQocd",
        "outputId": "40dcd752-e34b-48b8-bc86-118c8b286011",
        "colab": {
          "base_uri": "https://localhost:8080/",
          "height": 34
        }
      },
      "source": [
        "recall_score(y_val, preds_valid)"
      ],
      "execution_count": null,
      "outputs": [
        {
          "output_type": "execute_result",
          "data": {
            "text/plain": [
              "0.41710421304658296"
            ]
          },
          "metadata": {
            "tags": []
          },
          "execution_count": 55
        }
      ]
    },
    {
      "cell_type": "code",
      "metadata": {
        "id": "H-t389cAOoVF",
        "outputId": "aedb6562-d3e3-46a4-d189-02001890720c",
        "colab": {
          "base_uri": "https://localhost:8080/",
          "height": 34
        }
      },
      "source": [
        "# Test accuracy\n",
        "# Max of 75.5% when not including umpire_1B but 20% predictions of 1 (better overall)\n",
        "# Max of 75.8% when not including umpire_1B, delay but 20% predictions of 1 (better overall)\n",
        "# Max of 76.3% when not including umpire_1B, delay, strikeout_% but 15% predictions of 1\n",
        "preds_test = bat_clf.predict(X_test)\n",
        "np.mean(preds_test == y_test)"
      ],
      "execution_count": null,
      "outputs": [
        {
          "output_type": "execute_result",
          "data": {
            "text/plain": [
              "0.7602139796154737"
            ]
          },
          "metadata": {
            "tags": []
          },
          "execution_count": 56
        }
      ]
    },
    {
      "cell_type": "code",
      "metadata": {
        "id": "ROt-OZRCGnOD",
        "outputId": "e0d84bb3-6ae3-4871-e334-b1d84daff406",
        "colab": {
          "base_uri": "https://localhost:8080/",
          "height": 34
        }
      },
      "source": [
        "preds_test.mean()"
      ],
      "execution_count": null,
      "outputs": [
        {
          "output_type": "execute_result",
          "data": {
            "text/plain": [
              "0.18099953671531155"
            ]
          },
          "metadata": {
            "tags": []
          },
          "execution_count": 57
        }
      ]
    },
    {
      "cell_type": "code",
      "metadata": {
        "id": "QcwEwNBXGolg",
        "outputId": "4bad7905-a7b5-40f1-ce65-45c164152864",
        "colab": {
          "base_uri": "https://localhost:8080/",
          "height": 34
        }
      },
      "source": [
        "y_test.mean()"
      ],
      "execution_count": null,
      "outputs": [
        {
          "output_type": "execute_result",
          "data": {
            "text/plain": [
              "0.34490821172110264"
            ]
          },
          "metadata": {
            "tags": []
          },
          "execution_count": 14
        }
      ]
    },
    {
      "cell_type": "code",
      "metadata": {
        "id": "kfOhD9qZP-Pk",
        "outputId": "2db87f19-f2ac-4f05-f3ed-4b41e6996cd3",
        "colab": {
          "base_uri": "https://localhost:8080/",
          "height": 34
        }
      },
      "source": [
        "f1_score(y_test, preds_test)"
      ],
      "execution_count": null,
      "outputs": [
        {
          "output_type": "execute_result",
          "data": {
            "text/plain": [
              "0.5440530756631017"
            ]
          },
          "metadata": {
            "tags": []
          },
          "execution_count": 15
        }
      ]
    },
    {
      "cell_type": "code",
      "metadata": {
        "id": "h8JfcYeWQgRA",
        "outputId": "a00004e8-30dc-43e1-bbe9-4e7c1c11823d",
        "colab": {
          "base_uri": "https://localhost:8080/",
          "height": 34
        }
      },
      "source": [
        "precision_score(y_test, preds_test)"
      ],
      "execution_count": null,
      "outputs": [
        {
          "output_type": "execute_result",
          "data": {
            "text/plain": [
              "0.7903935370340746"
            ]
          },
          "metadata": {
            "tags": []
          },
          "execution_count": 16
        }
      ]
    },
    {
      "cell_type": "code",
      "metadata": {
        "id": "pvL119PbQver",
        "outputId": "2ba79c70-26fa-4b2d-f0ec-651f12174c32",
        "colab": {
          "base_uri": "https://localhost:8080/",
          "height": 34
        }
      },
      "source": [
        "recall_score(y_test, preds_test)"
      ],
      "execution_count": null,
      "outputs": [
        {
          "output_type": "execute_result",
          "data": {
            "text/plain": [
              "0.41477952441916593"
            ]
          },
          "metadata": {
            "tags": []
          },
          "execution_count": 17
        }
      ]
    },
    {
      "cell_type": "code",
      "metadata": {
        "id": "pG0F7VjOSY5W"
      },
      "source": [
        "# How would our trivial classifier perform?\n",
        "trivial_pred = [0] * len(y_test)"
      ],
      "execution_count": null,
      "outputs": []
    },
    {
      "cell_type": "code",
      "metadata": {
        "id": "CnikVxn_Sjbm",
        "outputId": "34d67336-6540-4b16-b1a0-44739ec4a97d",
        "colab": {
          "base_uri": "https://localhost:8080/",
          "height": 34
        }
      },
      "source": [
        "np.mean(trivial_pred == y_test)"
      ],
      "execution_count": null,
      "outputs": [
        {
          "output_type": "execute_result",
          "data": {
            "text/plain": [
              "0.6550917882788974"
            ]
          },
          "metadata": {
            "tags": []
          },
          "execution_count": 19
        }
      ]
    },
    {
      "cell_type": "code",
      "metadata": {
        "id": "AkxQejxnSpo-",
        "outputId": "a2952352-1e85-4609-b1d4-5cadddfb45fb",
        "colab": {
          "base_uri": "https://localhost:8080/",
          "height": 88
        }
      },
      "source": [
        "f1_score(y_test, trivial_pred)"
      ],
      "execution_count": null,
      "outputs": [
        {
          "output_type": "stream",
          "text": [
            "/usr/local/lib/python3.6/dist-packages/sklearn/metrics/classification.py:1437: UndefinedMetricWarning: F-score is ill-defined and being set to 0.0 due to no predicted samples.\n",
            "  'precision', 'predicted', average, warn_for)\n"
          ],
          "name": "stderr"
        },
        {
          "output_type": "execute_result",
          "data": {
            "text/plain": [
              "0.0"
            ]
          },
          "metadata": {
            "tags": []
          },
          "execution_count": 20
        }
      ]
    },
    {
      "cell_type": "code",
      "metadata": {
        "id": "XxcSFIv0S5ZI",
        "outputId": "7b70f453-0103-4929-833e-10a9d3424fcd",
        "colab": {
          "base_uri": "https://localhost:8080/",
          "height": 88
        }
      },
      "source": [
        "precision_score(y_test, trivial_pred)"
      ],
      "execution_count": null,
      "outputs": [
        {
          "output_type": "stream",
          "text": [
            "/usr/local/lib/python3.6/dist-packages/sklearn/metrics/classification.py:1437: UndefinedMetricWarning: Precision is ill-defined and being set to 0.0 due to no predicted samples.\n",
            "  'precision', 'predicted', average, warn_for)\n"
          ],
          "name": "stderr"
        },
        {
          "output_type": "execute_result",
          "data": {
            "text/plain": [
              "0.0"
            ]
          },
          "metadata": {
            "tags": []
          },
          "execution_count": 21
        }
      ]
    },
    {
      "cell_type": "code",
      "metadata": {
        "id": "fWU5_b60SwVd",
        "outputId": "b6d4aeaa-f2cf-4186-b611-a6e61d196a2d",
        "colab": {
          "base_uri": "https://localhost:8080/",
          "height": 34
        }
      },
      "source": [
        "recall_score(y_test, trivial_pred)"
      ],
      "execution_count": null,
      "outputs": [
        {
          "output_type": "execute_result",
          "data": {
            "text/plain": [
              "0.0"
            ]
          },
          "metadata": {
            "tags": []
          },
          "execution_count": 22
        }
      ]
    },
    {
      "cell_type": "code",
      "metadata": {
        "id": "yZCnoqu7Xld6"
      },
      "source": [
        "# Now, let's try using LinearSVC to see how its performance \n",
        "# compares to that of LogisticRegression\n",
        "from sklearn.svm import LinearSVC"
      ],
      "execution_count": null,
      "outputs": []
    },
    {
      "cell_type": "code",
      "metadata": {
        "id": "bQJfrwJSXxK7",
        "outputId": "86a97e9d-827b-4305-f2ba-70c505b17dba",
        "colab": {
          "base_uri": "https://localhost:8080/",
          "height": 68
        }
      },
      "source": [
        "ct = ColumnTransformer(transformers=[\n",
        "        ('one-hot', OneHotEncoder(handle_unknown ='ignore'), cat)\n",
        "    ], remainder='passthrough')\n",
        "# The regressor was mainly predicting negative events, so we will be\n",
        "# balancing it\n",
        "bat_clf2 = Pipeline([('ct', ct),\n",
        "                     ('svc', LinearSVC())])\n",
        "\n",
        "bat_clf2.fit(X_train, y_train)\n",
        "\n",
        "# Training accuracy\n",
        "preds2 = bat_clf2.predict(X_train)\n",
        "np.mean(preds2 == y_train)"
      ],
      "execution_count": null,
      "outputs": [
        {
          "output_type": "stream",
          "text": [
            "/usr/local/lib/python3.6/dist-packages/sklearn/svm/base.py:929: ConvergenceWarning: Liblinear failed to converge, increase the number of iterations.\n",
            "  \"the number of iterations.\", ConvergenceWarning)\n"
          ],
          "name": "stderr"
        },
        {
          "output_type": "execute_result",
          "data": {
            "text/plain": [
              "0.6876633263438304"
            ]
          },
          "metadata": {
            "tags": []
          },
          "execution_count": 32
        }
      ]
    },
    {
      "cell_type": "code",
      "metadata": {
        "id": "F8icI6DnX23I",
        "outputId": "d9dacfcd-12c0-4c6a-d8c3-37ac13cd515e",
        "colab": {
          "base_uri": "https://localhost:8080/",
          "height": 34
        }
      },
      "source": [
        "# Validation accuracy\n",
        "preds_valid2 = bat_clf2.predict(X_val)\n",
        "np.mean(preds_valid2 == y_val)"
      ],
      "execution_count": null,
      "outputs": [
        {
          "output_type": "execute_result",
          "data": {
            "text/plain": [
              "0.6876085823488534"
            ]
          },
          "metadata": {
            "tags": []
          },
          "execution_count": 33
        }
      ]
    },
    {
      "cell_type": "code",
      "metadata": {
        "id": "y0i4CcRgdGbl",
        "outputId": "11737cd4-ae2f-4501-dd2d-b196a96d52e6",
        "colab": {
          "base_uri": "https://localhost:8080/",
          "height": 34
        }
      },
      "source": [
        "np.mean(preds_valid2)"
      ],
      "execution_count": null,
      "outputs": [
        {
          "output_type": "execute_result",
          "data": {
            "text/plain": [
              "0.03796762798239518"
            ]
          },
          "metadata": {
            "tags": []
          },
          "execution_count": 34
        }
      ]
    },
    {
      "cell_type": "code",
      "metadata": {
        "id": "upivx6CkdLbH",
        "outputId": "80f9e4e1-c575-42fb-d66b-fa21bef37426",
        "colab": {
          "base_uri": "https://localhost:8080/",
          "height": 34
        }
      },
      "source": [
        "np.mean( y_val)"
      ],
      "execution_count": null,
      "outputs": [
        {
          "output_type": "execute_result",
          "data": {
            "text/plain": [
              "0.3446693305536252"
            ]
          },
          "metadata": {
            "tags": []
          },
          "execution_count": 35
        }
      ]
    },
    {
      "cell_type": "code",
      "metadata": {
        "id": "bWjaEmt-Y13b",
        "outputId": "e7f46c6b-d58c-4e0e-d4a8-3380a94741ba",
        "colab": {
          "base_uri": "https://localhost:8080/",
          "height": 34
        }
      },
      "source": [
        "# Test accuracy\n",
        "preds_test2 = bat_clf2.predict(X_test)\n",
        "np.mean(preds_test2 == y_test)"
      ],
      "execution_count": null,
      "outputs": [
        {
          "output_type": "execute_result",
          "data": {
            "text/plain": [
              "0.6884410470233959"
            ]
          },
          "metadata": {
            "tags": []
          },
          "execution_count": 36
        }
      ]
    },
    {
      "cell_type": "code",
      "metadata": {
        "id": "E2_LR1NqGANK",
        "outputId": "1397e46d-8059-4def-94c4-e3ff42843736",
        "colab": {
          "base_uri": "https://localhost:8080/",
          "height": 34
        }
      },
      "source": [
        "f1_score(y_test, preds_test2)"
      ],
      "execution_count": null,
      "outputs": [
        {
          "output_type": "execute_result",
          "data": {
            "text/plain": [
              "0.18832270961415157"
            ]
          },
          "metadata": {
            "tags": []
          },
          "execution_count": 37
        }
      ]
    },
    {
      "cell_type": "code",
      "metadata": {
        "id": "fKMxZCqLGEhK",
        "outputId": "04a38b8b-e969-490c-8fe8-942ea9613d2c",
        "colab": {
          "base_uri": "https://localhost:8080/",
          "height": 34
        }
      },
      "source": [
        "precision_score(y_test, preds_test2)"
      ],
      "execution_count": null,
      "outputs": [
        {
          "output_type": "execute_result",
          "data": {
            "text/plain": [
              "0.9282394497118424"
            ]
          },
          "metadata": {
            "tags": []
          },
          "execution_count": 38
        }
      ]
    },
    {
      "cell_type": "code",
      "metadata": {
        "id": "iYyfWK1yGNE1",
        "outputId": "73b97932-57af-412d-a903-748b9c108c0d",
        "colab": {
          "base_uri": "https://localhost:8080/",
          "height": 34
        }
      },
      "source": [
        "recall_score(y_test, preds_test2)"
      ],
      "execution_count": null,
      "outputs": [
        {
          "output_type": "execute_result",
          "data": {
            "text/plain": [
              "0.10479148739689802"
            ]
          },
          "metadata": {
            "tags": []
          },
          "execution_count": 39
        }
      ]
    },
    {
      "cell_type": "code",
      "metadata": {
        "id": "kFZf6Wv8Y35B"
      },
      "source": [
        "# Now, let's try using a RandomForestClassifier to get feature importances\n",
        "from sklearn.ensemble import RandomForestClassifier"
      ],
      "execution_count": null,
      "outputs": []
    },
    {
      "cell_type": "code",
      "metadata": {
        "id": "3oMFsl0E1LU_",
        "outputId": "06756032-b918-4e68-8ab3-b96526f770dc",
        "colab": {
          "base_uri": "https://localhost:8080/",
          "height": 88
        }
      },
      "source": [
        "# The regressor was mainly predicting negative events, so we will be\n",
        "# balancing it\n",
        "bat_clf3 = Pipeline([('ct', ct),\n",
        "                     ('rf', RandomForestClassifier(max_features=28))])\n",
        "\n",
        "bat_clf3.fit(X_train, y_train)\n",
        "\n",
        "# Training accuracy\n",
        "preds3 = bat_clf3.predict(X_train)\n",
        "np.mean(preds3 == y_train)"
      ],
      "execution_count": null,
      "outputs": [
        {
          "output_type": "stream",
          "text": [
            "/usr/local/lib/python3.6/dist-packages/sklearn/ensemble/forest.py:245: FutureWarning: The default value of n_estimators will change from 10 in version 0.20 to 100 in 0.22.\n",
            "  \"10 in version 0.20 to 100 in 0.22.\", FutureWarning)\n"
          ],
          "name": "stderr"
        },
        {
          "output_type": "execute_result",
          "data": {
            "text/plain": [
              "0.9814227217558532"
            ]
          },
          "metadata": {
            "tags": []
          },
          "execution_count": 13
        }
      ]
    },
    {
      "cell_type": "code",
      "metadata": {
        "id": "BKsnMJEX4K1_",
        "outputId": "0d416c38-f047-471b-8c6e-75c468ca67fd",
        "colab": {
          "base_uri": "https://localhost:8080/",
          "height": 34
        }
      },
      "source": [
        "# Validation accuracy\n",
        "preds_valid3 = bat_clf3.predict(X_val)\n",
        "np.mean(preds_valid3 == y_val)"
      ],
      "execution_count": null,
      "outputs": [
        {
          "output_type": "execute_result",
          "data": {
            "text/plain": [
              "0.7160354412786657"
            ]
          },
          "metadata": {
            "tags": []
          },
          "execution_count": 14
        }
      ]
    },
    {
      "cell_type": "code",
      "metadata": {
        "id": "Z_SYKJGd4LSA",
        "outputId": "cb15b209-a381-4370-9b6d-0a2cad571c2d",
        "colab": {
          "base_uri": "https://localhost:8080/",
          "height": 34
        }
      },
      "source": [
        "# Test accuracy\n",
        "preds_test3 = bat_clf3.predict(X_test)\n",
        "np.mean(preds_test3 == y_test)"
      ],
      "execution_count": null,
      "outputs": [
        {
          "output_type": "execute_result",
          "data": {
            "text/plain": [
              "0.7171936529997683"
            ]
          },
          "metadata": {
            "tags": []
          },
          "execution_count": 15
        }
      ]
    },
    {
      "cell_type": "code",
      "metadata": {
        "id": "jH5VP0Wn1Wjc",
        "outputId": "ad013413-5a97-4bd1-9848-422929b936b5",
        "colab": {
          "base_uri": "https://localhost:8080/",
          "height": 51
        }
      },
      "source": [
        "bat_clf3.steps[1][1].feature_importances_"
      ],
      "execution_count": null,
      "outputs": [
        {
          "output_type": "execute_result",
          "data": {
            "text/plain": [
              "array([2.37548870e-05, 1.12268995e-04, 1.88279694e-04, ...,\n",
              "       3.74848789e-02, 3.77228107e-02, 3.71024998e-02])"
            ]
          },
          "metadata": {
            "tags": []
          },
          "execution_count": 16
        }
      ]
    },
    {
      "cell_type": "code",
      "metadata": {
        "id": "ACn05FlR1ddF",
        "outputId": "830198b4-4146-4368-d180-810be0db5b59",
        "colab": {
          "base_uri": "https://localhost:8080/",
          "height": 34
        }
      },
      "source": [
        "len(bat_clf3.steps[1][1].feature_importances_)"
      ],
      "execution_count": null,
      "outputs": [
        {
          "output_type": "execute_result",
          "data": {
            "text/plain": [
              "12136"
            ]
          },
          "metadata": {
            "tags": []
          },
          "execution_count": 48
        }
      ]
    },
    {
      "cell_type": "code",
      "metadata": {
        "id": "q7yOXeH43pPt",
        "outputId": "3f17d4bd-af11-4cd8-bea0-731669d2be52",
        "colab": {
          "base_uri": "https://localhost:8080/",
          "height": 316
        }
      },
      "source": [
        "display(len(X_train.columns))\n",
        "X_train.head()"
      ],
      "execution_count": null,
      "outputs": [
        {
          "output_type": "display_data",
          "data": {
            "text/plain": [
              "28"
            ]
          },
          "metadata": {
            "tags": []
          }
        },
        {
          "output_type": "execute_result",
          "data": {
            "text/html": [
              "<div>\n",
              "<style scoped>\n",
              "    .dataframe tbody tr th:only-of-type {\n",
              "        vertical-align: middle;\n",
              "    }\n",
              "\n",
              "    .dataframe tbody tr th {\n",
              "        vertical-align: top;\n",
              "    }\n",
              "\n",
              "    .dataframe thead th {\n",
              "        text-align: right;\n",
              "    }\n",
              "</style>\n",
              "<table border=\"1\" class=\"dataframe\">\n",
              "  <thead>\n",
              "    <tr style=\"text-align: right;\">\n",
              "      <th></th>\n",
              "      <th>batter_id</th>\n",
              "      <th>batter_position</th>\n",
              "      <th>team</th>\n",
              "      <th>inning</th>\n",
              "      <th>post_outs</th>\n",
              "      <th>pitcher_id</th>\n",
              "      <th>pitcher_position</th>\n",
              "      <th>opponent</th>\n",
              "      <th>opp_score</th>\n",
              "      <th>g_id</th>\n",
              "      <th>attendance</th>\n",
              "      <th>year</th>\n",
              "      <th>month</th>\n",
              "      <th>day</th>\n",
              "      <th>game_duration</th>\n",
              "      <th>delay</th>\n",
              "      <th>temperature</th>\n",
              "      <th>condition</th>\n",
              "      <th>wind_speed</th>\n",
              "      <th>wind_direction</th>\n",
              "      <th>umpire_HP</th>\n",
              "      <th>umpire_1B</th>\n",
              "      <th>venue_name</th>\n",
              "      <th>team_final_score</th>\n",
              "      <th>opp_final_score</th>\n",
              "      <th>DER</th>\n",
              "      <th>av_event</th>\n",
              "      <th>strikeout_%</th>\n",
              "    </tr>\n",
              "  </thead>\n",
              "  <tbody>\n",
              "    <tr>\n",
              "      <th>278372</th>\n",
              "      <td>435622</td>\n",
              "      <td>R</td>\n",
              "      <td>col</td>\n",
              "      <td>7</td>\n",
              "      <td>1</td>\n",
              "      <td>543557</td>\n",
              "      <td>L</td>\n",
              "      <td>col</td>\n",
              "      <td>12</td>\n",
              "      <td>201800270</td>\n",
              "      <td>35290</td>\n",
              "      <td>2018</td>\n",
              "      <td>4</td>\n",
              "      <td>20</td>\n",
              "      <td>210</td>\n",
              "      <td>0</td>\n",
              "      <td>44</td>\n",
              "      <td>cloudy</td>\n",
              "      <td>5</td>\n",
              "      <td>Out to CF</td>\n",
              "      <td>Vic Carapazza</td>\n",
              "      <td>Jordan Baker</td>\n",
              "      <td>Coors Field</td>\n",
              "      <td>5</td>\n",
              "      <td>16</td>\n",
              "      <td>0.706928</td>\n",
              "      <td>0.331326</td>\n",
              "      <td>0.249352</td>\n",
              "    </tr>\n",
              "    <tr>\n",
              "      <th>228210</th>\n",
              "      <td>467827</td>\n",
              "      <td>L</td>\n",
              "      <td>col</td>\n",
              "      <td>6</td>\n",
              "      <td>1</td>\n",
              "      <td>596295</td>\n",
              "      <td>L</td>\n",
              "      <td>col</td>\n",
              "      <td>2</td>\n",
              "      <td>201801615</td>\n",
              "      <td>40544</td>\n",
              "      <td>2018</td>\n",
              "      <td>8</td>\n",
              "      <td>1</td>\n",
              "      <td>239</td>\n",
              "      <td>0</td>\n",
              "      <td>82</td>\n",
              "      <td>clear</td>\n",
              "      <td>5</td>\n",
              "      <td>In from RF</td>\n",
              "      <td>Nic Lentz</td>\n",
              "      <td>Mark Ripperger</td>\n",
              "      <td>Busch Stadium</td>\n",
              "      <td>6</td>\n",
              "      <td>3</td>\n",
              "      <td>0.682313</td>\n",
              "      <td>0.326897</td>\n",
              "      <td>0.165581</td>\n",
              "    </tr>\n",
              "    <tr>\n",
              "      <th>15642</th>\n",
              "      <td>516770</td>\n",
              "      <td>R</td>\n",
              "      <td>nya</td>\n",
              "      <td>4</td>\n",
              "      <td>1</td>\n",
              "      <td>573186</td>\n",
              "      <td>R</td>\n",
              "      <td>nya</td>\n",
              "      <td>0</td>\n",
              "      <td>201702415</td>\n",
              "      <td>39457</td>\n",
              "      <td>2017</td>\n",
              "      <td>9</td>\n",
              "      <td>30</td>\n",
              "      <td>177</td>\n",
              "      <td>0</td>\n",
              "      <td>62</td>\n",
              "      <td>partly cloudy</td>\n",
              "      <td>8</td>\n",
              "      <td>L to R</td>\n",
              "      <td>Todd Tichenor</td>\n",
              "      <td>Kerwin Danley</td>\n",
              "      <td>Yankee Stadium</td>\n",
              "      <td>2</td>\n",
              "      <td>1</td>\n",
              "      <td>0.693798</td>\n",
              "      <td>0.340072</td>\n",
              "      <td>0.182879</td>\n",
              "    </tr>\n",
              "    <tr>\n",
              "      <th>686829</th>\n",
              "      <td>641583</td>\n",
              "      <td>L</td>\n",
              "      <td>oak</td>\n",
              "      <td>1</td>\n",
              "      <td>1</td>\n",
              "      <td>605242</td>\n",
              "      <td>R</td>\n",
              "      <td>oak</td>\n",
              "      <td>0</td>\n",
              "      <td>201801204</td>\n",
              "      <td>28866</td>\n",
              "      <td>2018</td>\n",
              "      <td>6</td>\n",
              "      <td>28</td>\n",
              "      <td>149</td>\n",
              "      <td>0</td>\n",
              "      <td>79</td>\n",
              "      <td>partly cloudy</td>\n",
              "      <td>6</td>\n",
              "      <td>In from LF</td>\n",
              "      <td>Ryan Additon</td>\n",
              "      <td>Will Little</td>\n",
              "      <td>Comerica Park</td>\n",
              "      <td>2</td>\n",
              "      <td>4</td>\n",
              "      <td>0.750000</td>\n",
              "      <td>0.264052</td>\n",
              "      <td>0.231527</td>\n",
              "    </tr>\n",
              "    <tr>\n",
              "      <th>474992</th>\n",
              "      <td>461865</td>\n",
              "      <td>L</td>\n",
              "      <td>det</td>\n",
              "      <td>4</td>\n",
              "      <td>2</td>\n",
              "      <td>573186</td>\n",
              "      <td>R</td>\n",
              "      <td>det</td>\n",
              "      <td>0</td>\n",
              "      <td>201702104</td>\n",
              "      <td>31961</td>\n",
              "      <td>2017</td>\n",
              "      <td>9</td>\n",
              "      <td>8</td>\n",
              "      <td>154</td>\n",
              "      <td>0</td>\n",
              "      <td>61</td>\n",
              "      <td>clear</td>\n",
              "      <td>11</td>\n",
              "      <td>In from CF</td>\n",
              "      <td>Alfonso Marquez</td>\n",
              "      <td>Chad Fairchild</td>\n",
              "      <td>Rogers Centre</td>\n",
              "      <td>4</td>\n",
              "      <td>5</td>\n",
              "      <td>0.709924</td>\n",
              "      <td>0.310750</td>\n",
              "      <td>0.217540</td>\n",
              "    </tr>\n",
              "  </tbody>\n",
              "</table>\n",
              "</div>"
            ],
            "text/plain": [
              "        batter_id batter_position team  ...       DER  av_event  strikeout_%\n",
              "278372     435622               R  col  ...  0.706928  0.331326     0.249352\n",
              "228210     467827               L  col  ...  0.682313  0.326897     0.165581\n",
              "15642      516770               R  nya  ...  0.693798  0.340072     0.182879\n",
              "686829     641583               L  oak  ...  0.750000  0.264052     0.231527\n",
              "474992     461865               L  det  ...  0.709924  0.310750     0.217540\n",
              "\n",
              "[5 rows x 28 columns]"
            ]
          },
          "metadata": {
            "tags": []
          },
          "execution_count": 49
        }
      ]
    },
    {
      "cell_type": "code",
      "metadata": {
        "id": "dGWwc_Mg3udp",
        "outputId": "d0b6a6c1-4244-4a73-f5c9-80bf3cfc5acd",
        "colab": {
          "base_uri": "https://localhost:8080/",
          "height": 134
        }
      },
      "source": [
        "bat_clf3.steps[1][1]"
      ],
      "execution_count": null,
      "outputs": [
        {
          "output_type": "execute_result",
          "data": {
            "text/plain": [
              "RandomForestClassifier(bootstrap=True, class_weight=None, criterion='gini',\n",
              "                       max_depth=None, max_features=28, max_leaf_nodes=None,\n",
              "                       min_impurity_decrease=0.0, min_impurity_split=None,\n",
              "                       min_samples_leaf=1, min_samples_split=2,\n",
              "                       min_weight_fraction_leaf=0.0, n_estimators=10,\n",
              "                       n_jobs=None, oob_score=False, random_state=None,\n",
              "                       verbose=0, warm_start=False)"
            ]
          },
          "metadata": {
            "tags": []
          },
          "execution_count": 50
        }
      ]
    },
    {
      "cell_type": "code",
      "metadata": {
        "id": "JvIVHRDo32mY",
        "outputId": "196497e2-812b-4d04-9462-460e7e458396",
        "colab": {
          "base_uri": "https://localhost:8080/",
          "height": 34
        }
      },
      "source": [
        "bat_clf3.steps[1][1].n_features_"
      ],
      "execution_count": null,
      "outputs": [
        {
          "output_type": "execute_result",
          "data": {
            "text/plain": [
              "12136"
            ]
          },
          "metadata": {
            "tags": []
          },
          "execution_count": 51
        }
      ]
    },
    {
      "cell_type": "code",
      "metadata": {
        "id": "LsJqsUc642lA"
      },
      "source": [
        ""
      ],
      "execution_count": null,
      "outputs": []
    }
  ]
}